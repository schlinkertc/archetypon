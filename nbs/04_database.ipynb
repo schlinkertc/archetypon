{
 "cells": [
  {
   "cell_type": "raw",
   "id": "783d0b95",
   "metadata": {},
   "source": [
    "---\n",
    "output-file: database.html\n",
    "title: Databases\n",
    "\n",
    "---\n",
    "\n"
   ]
  },
  {
   "cell_type": "code",
   "execution_count": null,
   "id": "a911d9d5-04ef-4734-ba3f-04b1822c9f7d",
   "metadata": {},
   "outputs": [],
   "source": [
    "#|default_exp database"
   ]
  },
  {
   "cell_type": "code",
   "execution_count": null,
   "id": "24071e4b-42bd-4582-996e-9656e0622119",
   "metadata": {},
   "outputs": [],
   "source": [
    "#|exporti \n",
    "\n",
    "from archetypon.delegates import delegates\n",
    "import os\n",
    "import pandas as pd\n",
    "from typing import Any,Type,Union,Callable,Optional\n",
    "from snowflake.sqlalchemy import URL as SnowflakeURL\n",
    "from pydantic import SecretStr,Field,FilePath\n",
    "from typing import Optional\n",
    "from pathlib import Path\n",
    "import configparser\n",
    "from sqlalchemy.engine import create_engine,Engine\n",
    "from sqlalchemy import MetaData\n",
    "from contextlib import contextmanager\n",
    "from sqlalchemy.orm import Session\n",
    "from typing import Literal,Any\n",
    "from pydantic import validator,root_validator\n",
    "\n",
    "from sqlalchemy import Sequence\n",
    "from abc import ABC, abstractproperty,abstractmethod\n",
    "from sqlalchemy.engine.url import URL\n",
    "from pydantic import BaseSettings"
   ]
  },
  {
   "cell_type": "code",
   "execution_count": null,
   "id": "d6323e76-78dc-4bb4-bba4-3eddb92cd96d",
   "metadata": {},
   "outputs": [],
   "source": [
    "#| exporti \n",
    "\n",
    "class AbstractDatabaseClass(ABC):\n",
    "\n",
    "    \"\"\"\n",
    "    Abstract Base Class for all Database Connections.\n",
    "\n",
    "    <br><br>\n",
    "    From [SQLAlchemy docs](https://docs.sqlalchemy.org/en/13/core/engines.html):\n",
    "    > The Engine is the starting point for any SQLAlchemy application. It’s “home base” for the actual database and its DBAPI.\n",
    "    > An Engine references both a Dialect and a Pool, which together interpret the DBAPI’s module functions as well as the behavior of the database <br><br>\n",
    "    > Pool object which will establish a DBAPI connection at localhost:5432 when a connection request is first received\n",
    "    > - Note that the Engine and its underlying Pool do **not** establish the first actual DBAPI connection until the Engine.connect() method is called, or an operation which is dependent on this method such as Engine.execute() is invoked.\n",
    "    > - In this way, Engine and Pool can be said to have a lazy initialization behavior.\n",
    "    >\n",
    "    > The Engine, once created, can either be used directly to interact with the database, or can be passed to a Session object to work with the ORM.\n",
    "\n",
    "    \"\"\"\n",
    "\n",
    "    def query_to_records(\n",
    "        self,\n",
    "        query_string:str,\n",
    "        model:Union[Type,Callable]=dict\n",
    "    ):\n",
    "        with self.engine.connect() as conn:\n",
    "            results = [model(row) for row in conn.execute(query_string).fetchall()]\n",
    "        return results\n",
    "\n",
    "    @delegates(pd.read_sql_query)\n",
    "    def query_to_df(\n",
    "        self,\n",
    "        query_string,\n",
    "        **kwargs\n",
    "    ):\n",
    "        f\"\"\"{pd.read_sql_query.__doc__}\"\"\"\n",
    "        with self.engine.connect() as conn:\n",
    "            df = pd.read_sql_query(query_string,conn,**kwargs)\n",
    "        return df\n",
    "\n",
    "    @contextmanager\n",
    "    def session_scope(self,bind=None,**kwargs):\n",
    "        \"\"\"Provide a transactional scope around a series of operations.\"\"\"\n",
    "\n",
    "        session = Session(bind=self.engine,**kwargs)\n",
    "        try:\n",
    "            yield session\n",
    "            session.commit()\n",
    "        except:\n",
    "            session.rollback()\n",
    "            raise\n",
    "        finally:\n",
    "            session.close()\n",
    "    \n",
    "    @property\n",
    "    def tables(self):\n",
    "        return self.metadata.tables\n",
    "\n",
    "    def __repr__(self):\n",
    "        return (\n",
    "            \"<Database: \" +\"\".join(\n",
    "                [f\"{k}={v}, \" for k, v in\n",
    "                 self.engine.url.__dict__.items()\n",
    "                 if k in ('drivername','host','database')\n",
    "                ]).strip(' ,')+'>'\n",
    "        )"
   ]
  },
  {
   "cell_type": "markdown",
   "id": "b70374eb-d70a-4c02-868a-1996e8a3f110",
   "metadata": {},
   "source": [
    "### Database Settings "
   ]
  },
  {
   "cell_type": "code",
   "execution_count": null,
   "id": "894a2a17-1baa-462b-9f75-45e28d4d8f72",
   "metadata": {},
   "outputs": [],
   "source": [
    "#|exporti\n",
    "\n",
    "class DatabaseCredentialsBase(BaseSettings):\n",
    "    username: str = None\n",
    "    password: SecretStr = ''"
   ]
  },
  {
   "cell_type": "code",
   "execution_count": null,
   "id": "b0f68478-c200-4927-b362-65417bf987a9",
   "metadata": {},
   "outputs": [],
   "source": [
    "#|exporti\n",
    "\n",
    "class DatabaseCredentials(DatabaseCredentialsBase):\n",
    "    \"\"\" Passed to regular SQLAlchemy URL constructor\"\"\"\n",
    "    drivername: str\n",
    "    host:str = None\n",
    "    port:int = None\n",
    "    query:str = None\n",
    "    database:str = None"
   ]
  },
  {
   "cell_type": "code",
   "execution_count": null,
   "id": "065245a1-99fc-49dc-98d4-73a235994533",
   "metadata": {},
   "outputs": [],
   "source": [
    "#|exporti\n",
    "\n",
    "class SnowflakeCredentials(DatabaseCredentialsBase):\n",
    "    \"\"\"Passed to special Snowflake URL constructor\"\"\"\n",
    "    account: str\n",
    "    database: Optional[str]\n",
    "    snowflake_schema: Optional[str] = Field(\n",
    "        ...,\n",
    "        env='snowflake_schema',\n",
    "        alias='schema',\n",
    "        description=\"\"\"passed to the SQLAlchemy URL constructor as 'schema', \n",
    "        but we need to alias it to avoid clashing with 'BaseSettings'\"\"\")\n",
    "    warehouse: Optional[str]\n",
    "    role: Optional[str]\n",
    "    numpy: Optional[bool]\n",
    "        "
   ]
  },
  {
   "cell_type": "code",
   "execution_count": null,
   "id": "08b5fc52-a1d9-4284-b2d8-aa66f4afd93f",
   "metadata": {},
   "outputs": [],
   "source": [
    "#|export\n",
    "\n",
    "class Database(DatabaseCredentials,AbstractDatabaseClass):\n",
    "    f\"\"\"{URL.__doc__}\"\"\"\n",
    "\n",
    "    engine:Engine = None\n",
    "    engine_url:URL = None\n",
    "    metadata:MetaData = None\n",
    "\n",
    "    def __init__(\n",
    "        self,\n",
    "        **kwargs\n",
    "    ):\n",
    "        # settings __init__\n",
    "        super().__init__(**kwargs)\n",
    "        url = URL.create(\n",
    "            drivername=self.drivername,\n",
    "            username=self.username,\n",
    "            password=self.password.get_secret_value(),\n",
    "            host=self.host,\n",
    "            port=self.port,\n",
    "            database=self.database,\n",
    "            query=self.query\n",
    "        )\n",
    "        self.engine_url=url\n",
    "        self.engine=create_engine(url)\n",
    "        self.metadata = MetaData()\n",
    "\n",
    "    class Config:\n",
    "        arbitrary_types_allowed=True\n",
    "\n",
    "    def __repr__(self):\n",
    "        return (\n",
    "            \"<Database: \" +\"\".join(\n",
    "                [f\"{k}={v}, \" for k, v in\n",
    "                 self.engine.url.__dict__.items()\n",
    "                 if k in ('drivername','host','database', 'username')\n",
    "                ]).strip(' ,')+'>'\n",
    "        )"
   ]
  },
  {
   "cell_type": "code",
   "execution_count": null,
   "id": "35846181-8083-4483-8599-7abf072c2519",
   "metadata": {},
   "outputs": [],
   "source": [
    "#|export \n",
    "\n",
    "class SnowflakeDatabase(SnowflakeCredentials,AbstractDatabaseClass):\n",
    "    engine_url: URL = None\n",
    "    engine: Engine = None\n",
    "    metadata: MetaData = None\n",
    "\n",
    "\n",
    "    def __init__(\n",
    "        self,\n",
    "        **kwargs\n",
    "    ):\n",
    "        super().__init__(**kwargs)\n",
    "        self.engine_url = SnowflakeURL(\n",
    "            user = self.username,\n",
    "            password = self.password.get_secret_value(),\n",
    "            account=self.account,\n",
    "            database = self.database,\n",
    "            schema = self.snowflake_schema,\n",
    "            warehouse = self.warehouse,\n",
    "            role = self.role,\n",
    "            numpy = self.numpy\n",
    "        )\n",
    "\n",
    "        self.engine=create_engine(self.engine_url)\n",
    "        self.metadata = MetaData()\n",
    "\n",
    "    class Config:\n",
    "        arbitrary_types_allowed=True\n",
    "\n",
    "    def __repr__(self):\n",
    "        return (\n",
    "            \"<Snowflake Database: \" +\"\".join(\n",
    "                [f\"{k}={v}, \" for k, v in\n",
    "                 self.dict().items()\n",
    "                 if k in ('account','database','snowflake_schema','warehouse')\n",
    "                ]).strip(' ,')+'>'\n",
    "        )"
   ]
  },
  {
   "cell_type": "markdown",
   "id": "27c08cb4-f808-4bca-92be-fc848af5c824",
   "metadata": {},
   "source": [
    "## SQLite Example"
   ]
  },
  {
   "cell_type": "code",
   "execution_count": null,
   "id": "d78e53ce-3da0-4181-902e-d6e22d55b830",
   "metadata": {},
   "outputs": [],
   "source": [
    "import pandas as pd\n",
    "import os\n",
    "import sqlalchemy"
   ]
  },
  {
   "cell_type": "code",
   "execution_count": null,
   "id": "da4d3d7b-5a59-4c03-8ae8-74c9cc39b0a4",
   "metadata": {},
   "outputs": [
    {
     "data": {
      "text/plain": [
       "'1.4.46'"
      ]
     },
     "execution_count": null,
     "metadata": {},
     "output_type": "execute_result"
    }
   ],
   "source": [
    "sqlalchemy.__version__"
   ]
  },
  {
   "cell_type": "code",
   "execution_count": null,
   "id": "7e2348e7-4404-4ce0-8d01-d04bd2b537f1",
   "metadata": {},
   "outputs": [],
   "source": [
    "class SQLiteDB(Database):\n",
    "    drivername='sqlite'\n",
    "    database='test.db'\n",
    "\n",
    "db = SQLiteDB()\n",
    "\n",
    "users = pd.DataFrame({\n",
    "    'id':[1,2,3],\n",
    "    'user':['larry','moe','curly']\n",
    "})\n",
    "\n",
    "users.to_sql('users',db.engine,if_exists='replace',index=False)\n",
    "\n",
    "queried = db.query_to_df(\"select * from users\")\n",
    "assert queried.equals(users)\n",
    "os.remove('test.db')"
   ]
  },
  {
   "cell_type": "code",
   "execution_count": null,
   "id": "9da0aa59-0ede-4795-a761-ca55ae74cb29",
   "metadata": {},
   "outputs": [],
   "source": [
    "!nbdev_export "
   ]
  }
 ],
 "metadata": {
  "kernelspec": {
   "display_name": "python3",
   "language": "python",
   "name": "python3"
  }
 },
 "nbformat": 4,
 "nbformat_minor": 5
}
