{
 "cells": [
  {
   "cell_type": "code",
   "execution_count": null,
   "id": "06d58683-10ea-4f4e-9586-f9747adfa8a4",
   "metadata": {},
   "outputs": [],
   "source": [
    "#| default_exp record_validation"
   ]
  },
  {
   "cell_type": "markdown",
   "id": "e8ae3330-b710-45ae-8f3b-45de65606536",
   "metadata": {},
   "source": [
    "# Record Validation\n",
    "> Using Pydantic Models to validate the rows (or 'records') of a DataFrame."
   ]
  },
  {
   "cell_type": "code",
   "execution_count": null,
   "id": "4073c2fe-0bdb-4417-aa7c-9336b10f5aeb",
   "metadata": {},
   "outputs": [],
   "source": [
    "#|exporti \n",
    "\n",
    "import pandas as pd\n",
    "from pandas import DataFrame as PandasDataFrame\n",
    "from typing import *\n",
    "from archetypon.base_model import BaseModel,GenericModel,DataFrame\n",
    "from pydantic import parse_obj_as,ValidationError,validator\n",
    "from pydantic.utils import update_not_none"
   ]
  },
  {
   "cell_type": "code",
   "execution_count": null,
   "id": "fbe4ccc8-4582-4f30-9065-85e427a18abc",
   "metadata": {},
   "outputs": [],
   "source": [
    "#|exporti \n",
    "\n",
    "def parse_dataframe_rows_as(\n",
    "    model:Type[BaseModel],\n",
    "    df:PandasDataFrame\n",
    ")->PandasDataFrame:\n",
    "    \"\"\"Uses .parse_obj() method of Pydantic's `BaseModel` to validate rows of a dataframe.\"\"\"\n",
    "    \n",
    "    # convert dataframe to a series of dictionaries\n",
    "    # drop NaN values because pydantic doesn't consider them to be 'None', and that interferes with validation\n",
    "    series_of_dicts = df.apply(\n",
    "        lambda row: row.dropna().to_dict(),\n",
    "        axis=1\n",
    "    )\n",
    "    \n",
    "    #convert the series of dicts to a series of parsed models\n",
    "    errors = []\n",
    "    def parse_row(row):\n",
    "        try:\n",
    "            validated = parse_obj_as(model,row)\n",
    "            return validated\n",
    "        except ValidationError as e:\n",
    "            raw_errors = e.raw_errors\n",
    "            \n",
    "            errors.extend(raw_errors)\n",
    "            \n",
    "            return BaseModel()\n",
    "        return validated\n",
    "    \n",
    "    series_of_models = series_of_dicts.apply(\n",
    "        lambda x: parse_row(x),\n",
    "    )\n",
    "    if len(errors)>0:\n",
    "        raise ValidationError(errors=errors,model=model)\n",
    "    # from model back to dictionaries and then back to Series\n",
    "    validated = series_of_models.apply(\n",
    "        lambda x: x.dict(),\n",
    "    ).apply(pd.Series)\n",
    "    \n",
    "    return validated"
   ]
  },
  {
   "cell_type": "code",
   "execution_count": null,
   "id": "db6f29a2-6f24-47ef-b445-bbc75b95b1f7",
   "metadata": {},
   "outputs": [],
   "source": [
    "import datetime as dt"
   ]
  },
  {
   "cell_type": "code",
   "execution_count": null,
   "id": "6b8fc375-328f-419a-80e7-651bba9dea80",
   "metadata": {},
   "outputs": [
    {
     "data": {
      "text/html": [
       "<div>\n",
       "<style scoped>\n",
       "    .dataframe tbody tr th:only-of-type {\n",
       "        vertical-align: middle;\n",
       "    }\n",
       "\n",
       "    .dataframe tbody tr th {\n",
       "        vertical-align: top;\n",
       "    }\n",
       "\n",
       "    .dataframe thead th {\n",
       "        text-align: right;\n",
       "    }\n",
       "</style>\n",
       "<table border=\"1\" class=\"dataframe\">\n",
       "  <thead>\n",
       "    <tr style=\"text-align: right;\">\n",
       "      <th></th>\n",
       "      <th>number</th>\n",
       "      <th>string</th>\n",
       "      <th>date</th>\n",
       "    </tr>\n",
       "  </thead>\n",
       "  <tbody>\n",
       "    <tr>\n",
       "      <th>0</th>\n",
       "      <td>1</td>\n",
       "      <td>a</td>\n",
       "      <td>1994-06-11</td>\n",
       "    </tr>\n",
       "    <tr>\n",
       "      <th>1</th>\n",
       "      <td>2</td>\n",
       "      <td>b</td>\n",
       "      <td>2023-01-23</td>\n",
       "    </tr>\n",
       "    <tr>\n",
       "      <th>2</th>\n",
       "      <td>3.0</td>\n",
       "      <td>3</td>\n",
       "      <td>2023-01-23 15:54:23.155977</td>\n",
       "    </tr>\n",
       "  </tbody>\n",
       "</table>\n",
       "</div>"
      ],
      "text/plain": [
       "  number string                        date\n",
       "0      1      a                  1994-06-11\n",
       "1      2      b                  2023-01-23\n",
       "2    3.0      3  2023-01-23 15:54:23.155977"
      ]
     },
     "metadata": {},
     "output_type": "display_data"
    },
    {
     "data": {
      "text/plain": [
       "number    object\n",
       "string    object\n",
       "date      object\n",
       "dtype: object"
      ]
     },
     "execution_count": null,
     "metadata": {},
     "output_type": "execute_result"
    }
   ],
   "source": [
    "class Model(BaseModel):\n",
    "    number: int\n",
    "    string: str \n",
    "    date: dt.date\n",
    "    \n",
    "dataframe = pd.DataFrame({\n",
    "    'number':['1',2,3e0],\n",
    "    'string':['a','b',3],\n",
    "    'date':['1994-06-11',dt.date.today(),dt.datetime.today()],\n",
    "},dtype='object')\n",
    "display(dataframe)\n",
    "dataframe.dtypes"
   ]
  },
  {
   "cell_type": "code",
   "execution_count": null,
   "id": "8873e541-e8d0-4208-8321-ae1331b57bf6",
   "metadata": {},
   "outputs": [
    {
     "data": {
      "text/html": [
       "<div>\n",
       "<style scoped>\n",
       "    .dataframe tbody tr th:only-of-type {\n",
       "        vertical-align: middle;\n",
       "    }\n",
       "\n",
       "    .dataframe tbody tr th {\n",
       "        vertical-align: top;\n",
       "    }\n",
       "\n",
       "    .dataframe thead th {\n",
       "        text-align: right;\n",
       "    }\n",
       "</style>\n",
       "<table border=\"1\" class=\"dataframe\">\n",
       "  <thead>\n",
       "    <tr style=\"text-align: right;\">\n",
       "      <th></th>\n",
       "      <th>number</th>\n",
       "      <th>string</th>\n",
       "      <th>date</th>\n",
       "    </tr>\n",
       "  </thead>\n",
       "  <tbody>\n",
       "    <tr>\n",
       "      <th>0</th>\n",
       "      <td>1</td>\n",
       "      <td>a</td>\n",
       "      <td>1994-06-11</td>\n",
       "    </tr>\n",
       "    <tr>\n",
       "      <th>1</th>\n",
       "      <td>2</td>\n",
       "      <td>b</td>\n",
       "      <td>2023-01-23</td>\n",
       "    </tr>\n",
       "    <tr>\n",
       "      <th>2</th>\n",
       "      <td>3</td>\n",
       "      <td>3</td>\n",
       "      <td>2023-01-23</td>\n",
       "    </tr>\n",
       "  </tbody>\n",
       "</table>\n",
       "</div>"
      ],
      "text/plain": [
       "   number string        date\n",
       "0       1      a  1994-06-11\n",
       "1       2      b  2023-01-23\n",
       "2       3      3  2023-01-23"
      ]
     },
     "metadata": {},
     "output_type": "display_data"
    },
    {
     "data": {
      "text/plain": [
       "number     int64\n",
       "string    object\n",
       "date      object\n",
       "dtype: object"
      ]
     },
     "execution_count": null,
     "metadata": {},
     "output_type": "execute_result"
    }
   ],
   "source": [
    "validated = parse_dataframe_rows_as(Model,dataframe)\n",
    "display(validated)\n",
    "validated.dtypes"
   ]
  },
  {
   "cell_type": "markdown",
   "id": "2abef29b-0050-4c78-bcc8-4247ac125fea",
   "metadata": {},
   "source": [
    "> To Do: Find a way to return the index of the erros in the ValidationError"
   ]
  },
  {
   "cell_type": "code",
   "execution_count": null,
   "id": "fa15e606-79c4-47da-b01c-924a68b00bc4",
   "metadata": {},
   "outputs": [
    {
     "name": "stdout",
     "output_type": "stream",
     "text": [
      "2 validation errors for Model\n",
      "__root__ -> number\n",
      "  value is not a valid integer (type=type_error.integer)\n",
      "__root__ -> number\n",
      "  value is not a valid integer (type=type_error.integer)\n"
     ]
    }
   ],
   "source": [
    "bad_dataframe = pd.DataFrame({\n",
    "    'number':['a',1,'b'],\n",
    "    'string':dataframe['string'],\n",
    "    'date':dataframe['date'],\n",
    "},dtype='object')\n",
    "try:\n",
    "    df = parse_dataframe_rows_as(Model,bad_dataframe)\n",
    "    display(df)\n",
    "except ValidationError as e:\n",
    "    print(e)"
   ]
  },
  {
   "cell_type": "code",
   "execution_count": null,
   "id": "a4ce04de-f9f6-40d4-96f7-8d43a4573150",
   "metadata": {},
   "outputs": [],
   "source": [
    "#|exporti \n",
    "\n",
    "class TypedRecordFrame(DataFrame):\n",
    "    row_model: Optional[Type[BaseModel]] = None\n",
    "    alias_as_column_names: bool = False\n",
    "        \n",
    "    @classmethod\n",
    "    def __get_validators__(cls):\n",
    "        for v in super().__get_validators__():\n",
    "            yield v\n",
    "        yield cls.validate_rows\n",
    "        yield cls.validate_column_names\n",
    "    \n",
    "    @classmethod\n",
    "    def __modify_schema__(cls, field_schema: Dict[str, Any]) -> None:\n",
    "        row_model=None\n",
    "        if cls.row_model:\n",
    "            row_model = cls.row_model.schema()\n",
    "        update_not_none(\n",
    "            field_schema,\n",
    "            row_model=row_model\n",
    "        )\n",
    "\n",
    "    @classmethod\n",
    "    def validate_rows(cls, df):\n",
    "        \n",
    "        if cls.row_model:\n",
    "            validated = parse_dataframe_rows_as(cls.row_model,df)\n",
    "                            \n",
    "            return validated\n",
    "        return df\n",
    "    \n",
    "    @classmethod\n",
    "    def validate_column_names(cls,df):\n",
    "        if cls.alias_as_column_names==True:\n",
    "            # create a dictionary mapping field names to aliases\n",
    "            field_name_to_alias = {\n",
    "                field_name: cls.row_model.__fields__[field_name].alias\n",
    "                for field_name in cls.row_model.__fields__\n",
    "            }\n",
    "\n",
    "            df.rename(columns=field_name_to_alias,inplace=True)\n",
    "        return df\n",
    "            "
   ]
  },
  {
   "cell_type": "code",
   "execution_count": null,
   "id": "03410c43-9525-46b1-8c19-ea0ac54603b0",
   "metadata": {},
   "outputs": [],
   "source": [
    "#|exporti \n",
    "\n",
    "class RecordModelFrameMeta(type):\n",
    "    def __getitem__(self, constraint):\n",
    "        return type('RecordFrame', (TypedRecordFrame,), {'row_model': constraint})\n"
   ]
  },
  {
   "cell_type": "code",
   "execution_count": null,
   "id": "25c3072e-7025-4691-b4fc-21099b86e68d",
   "metadata": {},
   "outputs": [],
   "source": [
    "#|exporti\n",
    "class RecordFrame(DataFrame, metaclass=RecordModelFrameMeta):\n",
    "    pass"
   ]
  },
  {
   "cell_type": "code",
   "execution_count": null,
   "id": "a4b76b89-37d0-4d0e-a4b8-0671b7700fb3",
   "metadata": {},
   "outputs": [],
   "source": [
    "class ModelWithConstrainedFrame(BaseModel):\n",
    "    df: RecordFrame[Model]"
   ]
  },
  {
   "cell_type": "code",
   "execution_count": null,
   "id": "b913a79a-11fd-4fbc-9a55-83d27a843a1a",
   "metadata": {},
   "outputs": [
    {
     "data": {
      "application/json": {
       "df": {
        "date": {
         "0": 771292800000,
         "1": 1674432000000,
         "2": 1674432000000
        },
        "number": {
         "0": 1,
         "1": 2,
         "2": 3
        },
        "string": {
         "0": "a",
         "1": "b",
         "2": "3"
        }
       }
      },
      "text/html": [
       "<table border=\"1\"><tr><th>df</th><td><table border=\"1\"><tr><th>number</th><td><table border=\"1\"><tr><th>0</th><td>1</td></tr><tr><th>1</th><td>2</td></tr><tr><th>2</th><td>3</td></tr></table></td></tr><tr><th>string</th><td><table border=\"1\"><tr><th>0</th><td>a</td></tr><tr><th>1</th><td>b</td></tr><tr><th>2</th><td>3</td></tr></table></td></tr><tr><th>date</th><td><table border=\"1\"><tr><th>0</th><td>771292800000</td></tr><tr><th>1</th><td>1674432000000</td></tr><tr><th>2</th><td>1674432000000</td></tr></table></td></tr></table></td></tr></table>"
      ],
      "text/plain": [
       "ModelWithConstrainedFrame(df=   number string        date\n",
       "0       1      a  1994-06-11\n",
       "1       2      b  2023-01-23\n",
       "2       3      3  2023-01-23)"
      ]
     },
     "execution_count": null,
     "metadata": {},
     "output_type": "execute_result"
    }
   ],
   "source": [
    "ModelWithConstrainedFrame(df=dataframe)"
   ]
  },
  {
   "cell_type": "code",
   "execution_count": null,
   "id": "6a9c436f-5c04-4f83-a8a0-3dcbdbad05fa",
   "metadata": {},
   "outputs": [
    {
     "data": {
      "text/plain": [
       "{'title': 'ModelWithConstrainedFrame',\n",
       " 'description': \"Custom implementation of Pydantic's Base Model.\\n\\nIncludes `_repr_json_` and `_repr_html_` methods for nice displays in Jupyter Lab and Jupyter Notebook, respectively.\",\n",
       " 'type': 'object',\n",
       " 'properties': {'df': {'title': 'Df',\n",
       "   'row_model': {'title': 'Model',\n",
       "    'description': \"Custom implementation of Pydantic's Base Model.\\n\\nIncludes `_repr_json_` and `_repr_html_` methods for nice displays in Jupyter Lab and Jupyter Notebook, respectively.\",\n",
       "    'type': 'object',\n",
       "    'properties': {'number': {'title': 'Number', 'type': 'integer'},\n",
       "     'string': {'title': 'String', 'type': 'string'},\n",
       "     'date': {'title': 'Date', 'type': 'string', 'format': 'date'}},\n",
       "    'required': ['number', 'string', 'date']}}},\n",
       " 'required': ['df']}"
      ]
     },
     "execution_count": null,
     "metadata": {},
     "output_type": "execute_result"
    }
   ],
   "source": [
    "ModelWithConstrainedFrame.schema()"
   ]
  },
  {
   "cell_type": "code",
   "execution_count": null,
   "id": "c6f7caf7-2165-4f42-9ca2-537db9c39215",
   "metadata": {},
   "outputs": [],
   "source": []
  }
 ],
 "metadata": {
  "kernelspec": {
   "display_name": "Python 3 (ipykernel)",
   "language": "python",
   "name": "python3"
  }
 },
 "nbformat": 4,
 "nbformat_minor": 5
}
