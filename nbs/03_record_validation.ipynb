{
 "cells": [
  {
   "cell_type": "raw",
   "metadata": {},
   "source": [
    "---\n",
    "description: Using Pydantic Models to validate the rows (or 'records') of a DataFrame.\n",
    "output-file: record_validation.html\n",
    "title: Record Validation\n",
    "\n",
    "---\n",
    "\n"
   ]
  },
  {
   "cell_type": "code",
   "execution_count": null,
   "id": "06d58683-10ea-4f4e-9586-f9747adfa8a4",
   "metadata": {},
   "outputs": [],
   "source": [
    "#| default_exp record_validation"
   ]
  },
  {
   "cell_type": "code",
   "execution_count": null,
   "id": "4073c2fe-0bdb-4417-aa7c-9336b10f5aeb",
   "metadata": {},
   "outputs": [],
   "source": [
    "#|exporti \n",
    "\n",
    "import pandas as pd\n",
    "from pandas import DataFrame as PandasDataFrame\n",
    "from typing import *\n",
    "from archetypon.base_model import BaseModel,GenericModel,DataFrame\n",
    "from pydantic import parse_obj_as,ValidationError,validator\n",
    "from pydantic.utils import update_not_none"
   ]
  },
  {
   "cell_type": "code",
   "execution_count": null,
   "id": "fbe4ccc8-4582-4f30-9065-85e427a18abc",
   "metadata": {},
   "outputs": [],
   "source": [
    "#|exporti \n",
    "\n",
    "def parse_dataframe_rows_as(\n",
    "    model:Type[BaseModel],\n",
    "    df:PandasDataFrame\n",
    ")->PandasDataFrame:\n",
    "    \"\"\"Uses .parse_obj() method of Pydantic's `BaseModel` to validate rows of a dataframe.\"\"\"\n",
    "    \n",
    "    # convert dataframe to a series of dictionaries\n",
    "    # drop NaN values because pydantic doesn't consider them to be 'None', and that interferes with validation\n",
    "    series_of_dicts = df.apply(\n",
    "        lambda row: row.dropna().to_dict(),\n",
    "        axis=1\n",
    "    )\n",
    "    \n",
    "    #convert the series of dicts to a series of parsed models\n",
    "    errors = []\n",
    "    def parse_row(row):\n",
    "        try:\n",
    "            validated = parse_obj_as(model,row)\n",
    "            return validated\n",
    "        except ValidationError as e:\n",
    "            raw_errors = e.raw_errors\n",
    "            \n",
    "            errors.extend(raw_errors)\n",
    "            \n",
    "            return BaseModel()\n",
    "        return validated\n",
    "    \n",
    "    series_of_models = series_of_dicts.apply(\n",
    "        lambda x: parse_row(x),\n",
    "    )\n",
    "    if len(errors)>0:\n",
    "        raise ValidationError(errors=errors,model=model)\n",
    "    # from model back to dictionaries and then back to Series\n",
    "    validated = series_of_models.apply(\n",
    "        lambda x: x.dict(),\n",
    "    ).apply(pd.Series)\n",
    "    \n",
    "    return validated"
   ]
  },
  {
   "cell_type": "code",
   "execution_count": null,
   "id": "db6f29a2-6f24-47ef-b445-bbc75b95b1f7",
   "metadata": {},
   "outputs": [],
   "source": [
    "import datetime as dt"
   ]
  },
  {
   "cell_type": "code",
   "execution_count": null,
   "id": "6b8fc375-328f-419a-80e7-651bba9dea80",
   "metadata": {},
   "outputs": [
    {
     "data": {
      "text/html": [
       "<div>\n",
       "<style scoped>\n",
       "    .dataframe tbody tr th:only-of-type {\n",
       "        vertical-align: middle;\n",
       "    }\n",
       "\n",
       "    .dataframe tbody tr th {\n",
       "        vertical-align: top;\n",
       "    }\n",
       "\n",
       "    .dataframe thead th {\n",
       "        text-align: right;\n",
       "    }\n",
       "</style>\n",
       "<table border=\"1\" class=\"dataframe\">\n",
       "  <thead>\n",
       "    <tr style=\"text-align: right;\">\n",
       "      <th></th>\n",
       "      <th>number</th>\n",
       "      <th>string</th>\n",
       "      <th>date</th>\n",
       "    </tr>\n",
       "  </thead>\n",
       "  <tbody>\n",
       "    <tr>\n",
       "      <th>0</th>\n",
       "      <td>1</td>\n",
       "      <td>a</td>\n",
       "      <td>1994-06-11</td>\n",
       "    </tr>\n",
       "    <tr>\n",
       "      <th>1</th>\n",
       "      <td>2</td>\n",
       "      <td>b</td>\n",
       "      <td>2023-02-10</td>\n",
       "    </tr>\n",
       "    <tr>\n",
       "      <th>2</th>\n",
       "      <td>3.0</td>\n",
       "      <td>3</td>\n",
       "      <td>2023-02-10 14:03:05.866280</td>\n",
       "    </tr>\n",
       "  </tbody>\n",
       "</table>\n",
       "</div>"
      ],
      "text/plain": [
       "  number string                        date\n",
       "0      1      a                  1994-06-11\n",
       "1      2      b                  2023-02-10\n",
       "2    3.0      3  2023-02-10 14:03:05.866280"
      ]
     },
     "metadata": {},
     "output_type": "display_data"
    },
    {
     "data": {
      "text/plain": [
       "number    object\n",
       "string    object\n",
       "date      object\n",
       "dtype: object"
      ]
     },
     "execution_count": null,
     "metadata": {},
     "output_type": "execute_result"
    }
   ],
   "source": [
    "class Model(BaseModel):\n",
    "    number: int\n",
    "    string: str \n",
    "    date: dt.date\n",
    "    \n",
    "dataframe = pd.DataFrame({\n",
    "    'number':['1',2,3e0],\n",
    "    'string':['a','b',3],\n",
    "    'date':['1994-06-11',dt.date.today(),dt.datetime.today()],\n",
    "},dtype='object')\n",
    "display(dataframe)\n",
    "dataframe.dtypes"
   ]
  },
  {
   "cell_type": "code",
   "execution_count": null,
   "id": "8873e541-e8d0-4208-8321-ae1331b57bf6",
   "metadata": {},
   "outputs": [
    {
     "data": {
      "text/html": [
       "<div>\n",
       "<style scoped>\n",
       "    .dataframe tbody tr th:only-of-type {\n",
       "        vertical-align: middle;\n",
       "    }\n",
       "\n",
       "    .dataframe tbody tr th {\n",
       "        vertical-align: top;\n",
       "    }\n",
       "\n",
       "    .dataframe thead th {\n",
       "        text-align: right;\n",
       "    }\n",
       "</style>\n",
       "<table border=\"1\" class=\"dataframe\">\n",
       "  <thead>\n",
       "    <tr style=\"text-align: right;\">\n",
       "      <th></th>\n",
       "      <th>number</th>\n",
       "      <th>string</th>\n",
       "      <th>date</th>\n",
       "    </tr>\n",
       "  </thead>\n",
       "  <tbody>\n",
       "    <tr>\n",
       "      <th>0</th>\n",
       "      <td>1</td>\n",
       "      <td>a</td>\n",
       "      <td>1994-06-11</td>\n",
       "    </tr>\n",
       "    <tr>\n",
       "      <th>1</th>\n",
       "      <td>2</td>\n",
       "      <td>b</td>\n",
       "      <td>2023-02-10</td>\n",
       "    </tr>\n",
       "    <tr>\n",
       "      <th>2</th>\n",
       "      <td>3</td>\n",
       "      <td>3</td>\n",
       "      <td>2023-02-10</td>\n",
       "    </tr>\n",
       "  </tbody>\n",
       "</table>\n",
       "</div>"
      ],
      "text/plain": [
       "   number string        date\n",
       "0       1      a  1994-06-11\n",
       "1       2      b  2023-02-10\n",
       "2       3      3  2023-02-10"
      ]
     },
     "metadata": {},
     "output_type": "display_data"
    },
    {
     "data": {
      "text/plain": [
       "number     int64\n",
       "string    object\n",
       "date      object\n",
       "dtype: object"
      ]
     },
     "execution_count": null,
     "metadata": {},
     "output_type": "execute_result"
    }
   ],
   "source": [
    "validated = parse_dataframe_rows_as(Model,dataframe)\n",
    "display(validated)\n",
    "validated.dtypes"
   ]
  },
  {
   "cell_type": "markdown",
   "id": "2abef29b-0050-4c78-bcc8-4247ac125fea",
   "metadata": {},
   "source": [
    "> To Do: Find a way to return the index of the erros in the ValidationError"
   ]
  },
  {
   "cell_type": "code",
   "execution_count": null,
   "id": "fa15e606-79c4-47da-b01c-924a68b00bc4",
   "metadata": {},
   "outputs": [
    {
     "name": "stdout",
     "output_type": "stream",
     "text": [
      "2 validation errors for Model\n",
      "__root__ -> number\n",
      "  value is not a valid integer (type=type_error.integer)\n",
      "__root__ -> number\n",
      "  value is not a valid integer (type=type_error.integer)\n"
     ]
    }
   ],
   "source": [
    "bad_dataframe = pd.DataFrame({\n",
    "    'number':['a',1,'b'],\n",
    "    'string':dataframe['string'],\n",
    "    'date':dataframe['date'],\n",
    "},dtype='object')\n",
    "try:\n",
    "    df = parse_dataframe_rows_as(Model,bad_dataframe)\n",
    "    display(df)\n",
    "except ValidationError as e:\n",
    "    print(e)"
   ]
  },
  {
   "cell_type": "code",
   "execution_count": null,
   "id": "a4ce04de-f9f6-40d4-96f7-8d43a4573150",
   "metadata": {},
   "outputs": [],
   "source": [
    "#|exporti \n",
    "\n",
    "class TypedRecordFrame(DataFrame):\n",
    "    row_model: Optional[Type[BaseModel]] = None\n",
    "    alias_as_column_names: bool = False\n",
    "        \n",
    "    @classmethod\n",
    "    def __get_validators__(cls):\n",
    "        for v in super().__get_validators__():\n",
    "            yield v\n",
    "        yield cls.validate_rows\n",
    "        yield cls.validate_column_names\n",
    "    \n",
    "    @classmethod\n",
    "    def __modify_schema__(cls, field_schema: Dict[str, Any]) -> None:\n",
    "        row_model=None\n",
    "        if cls.row_model:\n",
    "            row_model = cls.row_model.schema()\n",
    "        update_not_none(\n",
    "            field_schema,\n",
    "            row_model=row_model\n",
    "        )\n",
    "\n",
    "    @classmethod\n",
    "    def validate_rows(cls, df):\n",
    "        \n",
    "        if cls.row_model:\n",
    "            validated = parse_dataframe_rows_as(cls.row_model,df)\n",
    "                            \n",
    "            return validated\n",
    "        return df\n",
    "    \n",
    "    @classmethod\n",
    "    def validate_column_names(cls,df):\n",
    "        if cls.alias_as_column_names==True:\n",
    "            # create a dictionary mapping field names to aliases\n",
    "            field_name_to_alias = {\n",
    "                field_name: cls.row_model.__fields__[field_name].alias\n",
    "                for field_name in cls.row_model.__fields__\n",
    "            }\n",
    "\n",
    "            df.rename(columns=field_name_to_alias,inplace=True)\n",
    "        return df\n",
    "            "
   ]
  },
  {
   "cell_type": "code",
   "execution_count": null,
   "id": "03410c43-9525-46b1-8c19-ea0ac54603b0",
   "metadata": {},
   "outputs": [],
   "source": [
    "#|exporti \n",
    "\n",
    "class RecordModelFrameMeta(type):\n",
    "    def __getitem__(self, constraint):\n",
    "        return type('RecordFrame', (TypedRecordFrame,), {'row_model': constraint})"
   ]
  },
  {
   "cell_type": "code",
   "execution_count": null,
   "id": "25c3072e-7025-4691-b4fc-21099b86e68d",
   "metadata": {},
   "outputs": [],
   "source": [
    "#|exporti\n",
    "class RecordFrame(DataFrame, metaclass=RecordModelFrameMeta):\n",
    "    pass"
   ]
  },
  {
   "cell_type": "code",
   "execution_count": null,
   "id": "99912ff9-67f0-43c7-9f32-5ee04c9141d1",
   "metadata": {},
   "outputs": [],
   "source": [
    "#|export \n",
    "\n",
    "def record_model(kls):\n",
    "    \"\"\"Decorator to make a pydantic model into a RecordFrame, i.e. a DataFrame validated by row.\"\"\"\n",
    "    return RecordFrame[kls]"
   ]
  },
  {
   "cell_type": "code",
   "execution_count": null,
   "id": "a4b76b89-37d0-4d0e-a4b8-0671b7700fb3",
   "metadata": {},
   "outputs": [],
   "source": [
    "class ModelWithConstrainedFrame(BaseModel):\n",
    "    df: RecordFrame[Model]"
   ]
  },
  {
   "cell_type": "code",
   "execution_count": null,
   "id": "b913a79a-11fd-4fbc-9a55-83d27a843a1a",
   "metadata": {},
   "outputs": [
    {
     "data": {
      "application/json": {
       "df": {
        "date": {
         "0": "1994-06-11T00:00:00.000",
         "1": "2023-02-10T00:00:00.000",
         "2": "2023-02-10T00:00:00.000"
        },
        "number": {
         "0": 1,
         "1": 2,
         "2": 3
        },
        "string": {
         "0": "a",
         "1": "b",
         "2": "3"
        }
       }
      },
      "text/html": [
       "<table border=\"1\"><tr><th>df</th><td><table border=\"1\"><tr><th>number</th><td><table border=\"1\"><tr><th>0</th><td>1</td></tr><tr><th>1</th><td>2</td></tr><tr><th>2</th><td>3</td></tr></table></td></tr><tr><th>string</th><td><table border=\"1\"><tr><th>0</th><td>a</td></tr><tr><th>1</th><td>b</td></tr><tr><th>2</th><td>3</td></tr></table></td></tr><tr><th>date</th><td><table border=\"1\"><tr><th>0</th><td>1994-06-11T00:00:00.000</td></tr><tr><th>1</th><td>2023-02-10T00:00:00.000</td></tr><tr><th>2</th><td>2023-02-10T00:00:00.000</td></tr></table></td></tr></table></td></tr></table>"
      ],
      "text/plain": [
       "ModelWithConstrainedFrame(df=   number string        date\n",
       "0       1      a  1994-06-11\n",
       "1       2      b  2023-02-10\n",
       "2       3      3  2023-02-10)"
      ]
     },
     "execution_count": null,
     "metadata": {},
     "output_type": "execute_result"
    }
   ],
   "source": [
    "ModelWithConstrainedFrame(df=dataframe)"
   ]
  },
  {
   "cell_type": "markdown",
   "id": "7415ed98-6a3c-4102-8d92-c477b6762121",
   "metadata": {},
   "source": [
    "### Example: Recently Played Songs on WFUV"
   ]
  },
  {
   "cell_type": "code",
   "execution_count": null,
   "id": "a0d2ad68-8ccc-4d5a-a334-cecf9cbbe11c",
   "metadata": {},
   "outputs": [],
   "source": [
    "from archetypon.base_model import DataFrameModel\n",
    "from pydantic import Field\n",
    "from pydantic import HttpUrl,Field\n",
    "import pandas as pd"
   ]
  },
  {
   "cell_type": "code",
   "execution_count": null,
   "id": "0daa2355-29fa-4e7f-b38c-1500f4f7204e",
   "metadata": {},
   "outputs": [],
   "source": [
    "\n",
    "@record_model\n",
    "class Song(BaseModel):\n",
    "    time: str = Field(alias='Time')\n",
    "    song_title: str = Field(alias='Song Title')\n",
    "    artist: Optional[str] = Field(alias='Artist')"
   ]
  },
  {
   "cell_type": "code",
   "execution_count": null,
   "id": "52257ac1-6de3-4a05-9430-1eb43864b84c",
   "metadata": {},
   "outputs": [],
   "source": [
    "class WFUVRecentlyPlayed(DataFrameModel[Song]):\n",
    "    \"\"\"A DataFrame of recently played songs from WFUV\"\"\"\n",
    "    \n",
    "    source:ClassVar[HttpUrl] = \"https://wfuv.org/playlist\"\n",
    "    timestamp: dt.datetime = Field(description='The time that the data was collected',default_factory = dt.datetime.now)\n",
    "    \n",
    "    def __init__(self,*args,**kwargs):\n",
    "        data = pd.read_html(self.source)[0]\n",
    "        super().__init__(data=data,*args,**kwargs)\n",
    "        "
   ]
  },
  {
   "cell_type": "code",
   "execution_count": null,
   "id": "1a7927de-7c8e-49e8-8740-91a26c1046ed",
   "metadata": {},
   "outputs": [
    {
     "data": {
      "text/html": [
       "<header><b>title</b>: WFUVRecentlyPlayed\n",
       "</header><header><b>description</b>: A DataFrame of recently played songs from WFUV\n",
       "</header><header><b>timestamp</b>: 2023-02-10 14:04:00.356416</header><header><b>DataFrame</b>: </header><div>\n",
       "<style scoped>\n",
       "    .dataframe tbody tr th:only-of-type {\n",
       "        vertical-align: middle;\n",
       "    }\n",
       "\n",
       "    .dataframe tbody tr th {\n",
       "        vertical-align: top;\n",
       "    }\n",
       "\n",
       "    .dataframe thead th {\n",
       "        text-align: right;\n",
       "    }\n",
       "</style>\n",
       "<table border=\"1\" class=\"dataframe\">\n",
       "  <thead>\n",
       "    <tr style=\"text-align: right;\">\n",
       "      <th></th>\n",
       "      <th>time</th>\n",
       "      <th>song_title</th>\n",
       "      <th>artist</th>\n",
       "    </tr>\n",
       "  </thead>\n",
       "  <tbody>\n",
       "    <tr>\n",
       "      <th>0</th>\n",
       "      <td>02/10, 1:38pm</td>\n",
       "      <td>The Greatest</td>\n",
       "      <td>Cat Power</td>\n",
       "    </tr>\n",
       "    <tr>\n",
       "      <th>1</th>\n",
       "      <td>02/10, 1:31pm</td>\n",
       "      <td>Same Ol Mistakes</td>\n",
       "      <td>Rihanna</td>\n",
       "    </tr>\n",
       "    <tr>\n",
       "      <th>2</th>\n",
       "      <td>02/10, 1:26pm</td>\n",
       "      <td>This Year</td>\n",
       "      <td>Emily King</td>\n",
       "    </tr>\n",
       "    <tr>\n",
       "      <th>3</th>\n",
       "      <td>02/10, 1:23pm</td>\n",
       "      <td>Part of the Band</td>\n",
       "      <td>The 1975</td>\n",
       "    </tr>\n",
       "    <tr>\n",
       "      <th>4</th>\n",
       "      <td>02/10, 1:19pm</td>\n",
       "      <td>Disarm</td>\n",
       "      <td>Smashing Pumpkins</td>\n",
       "    </tr>\n",
       "    <tr>\n",
       "      <th>...</th>\n",
       "      <td>...</td>\n",
       "      <td>...</td>\n",
       "      <td>...</td>\n",
       "    </tr>\n",
       "    <tr>\n",
       "      <th>345</th>\n",
       "      <td>02/09, 1:16pm</td>\n",
       "      <td>Vacation</td>\n",
       "      <td>The Go-Go's</td>\n",
       "    </tr>\n",
       "    <tr>\n",
       "      <th>346</th>\n",
       "      <td>02/09, 1:07pm</td>\n",
       "      <td>The Payback</td>\n",
       "      <td>James Brown</td>\n",
       "    </tr>\n",
       "    <tr>\n",
       "      <th>347</th>\n",
       "      <td>02/09, 1:03pm</td>\n",
       "      <td>New Gold</td>\n",
       "      <td>Gorillaz</td>\n",
       "    </tr>\n",
       "    <tr>\n",
       "      <th>348</th>\n",
       "      <td>02/09, 1:00pm</td>\n",
       "      <td>Modern Girl</td>\n",
       "      <td>Sleater-Kinney</td>\n",
       "    </tr>\n",
       "    <tr>\n",
       "      <th>349</th>\n",
       "      <td>02/09, 12:57pm</td>\n",
       "      <td>Radio</td>\n",
       "      <td>Margo Price ft. Sharon Van Etten</td>\n",
       "    </tr>\n",
       "  </tbody>\n",
       "</table>\n",
       "<p>350 rows × 3 columns</p>\n",
       "</div>"
      ],
      "text/plain": [
       "WFUVRecentlyPlayed(data=               time         song_title                            artist\n",
       "0     02/10, 1:38pm       The Greatest                         Cat Power\n",
       "1     02/10, 1:31pm  Same Ol Mistakes                           Rihanna\n",
       "2     02/10, 1:26pm          This Year                        Emily King\n",
       "3     02/10, 1:23pm   Part of the Band                          The 1975\n",
       "4     02/10, 1:19pm             Disarm                 Smashing Pumpkins\n",
       "..              ...                ...                               ...\n",
       "345   02/09, 1:16pm           Vacation                       The Go-Go's\n",
       "346   02/09, 1:07pm        The Payback                       James Brown\n",
       "347   02/09, 1:03pm           New Gold                          Gorillaz\n",
       "348   02/09, 1:00pm        Modern Girl                    Sleater-Kinney\n",
       "349  02/09, 12:57pm              Radio  Margo Price ft. Sharon Van Etten\n",
       "\n",
       "[350 rows x 3 columns], timestamp=datetime.datetime(2023, 2, 10, 14, 4, 0, 356416))"
      ]
     },
     "execution_count": null,
     "metadata": {},
     "output_type": "execute_result"
    }
   ],
   "source": [
    "recently_played = WFUVRecentlyPlayed()\n",
    "recently_played"
   ]
  },
  {
   "cell_type": "code",
   "execution_count": null,
   "id": "dbfa25e8-e3a6-40ec-b508-fdade0aeef8e",
   "metadata": {},
   "outputs": [],
   "source": [
    "assert type(recently_played.data)==pd.DataFrame"
   ]
  },
  {
   "cell_type": "code",
   "execution_count": null,
   "id": "6abc2cce-561f-40d7-af45-f41ea7adeac3",
   "metadata": {},
   "outputs": [],
   "source": []
  }
 ],
 "metadata": {
  "kernelspec": {
   "display_name": "python3",
   "language": "python",
   "name": "python3"
  }
 },
 "nbformat": 4,
 "nbformat_minor": 5
}
