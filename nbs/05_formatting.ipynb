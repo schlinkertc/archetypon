{
 "cells": [
  {
   "cell_type": "raw",
   "metadata": {},
   "source": [
    "---\n",
    "description: String formatting and Pretium colors\n",
    "output-file: formatting.html\n",
    "title: Formatting\n",
    "\n",
    "---\n",
    "\n"
   ]
  },
  {
   "cell_type": "code",
   "execution_count": null,
   "id": "worldwide-shoulder",
   "metadata": {},
   "outputs": [],
   "source": [
    "#| default_exp formatting"
   ]
  },
  {
   "cell_type": "code",
   "execution_count": null,
   "id": "tropical-frederick",
   "metadata": {},
   "outputs": [],
   "source": [
    "#| exporti \n",
    "\n",
    "from typing import (\n",
    "    Union,\n",
    "    Callable,\n",
    "    TypeVar,\n",
    "    Literal\n",
    ")\n",
    "from pretiumlake import BaseModel\n",
    "from pydantic import root_validator\n",
    "from pydantic.color import Color\n",
    "import plotly.io as pio\n",
    "from plotly import graph_objs as go\n",
    "from typing import List\n",
    "import math\n",
    "from pandas import isnull\n",
    "import pandas as pd\n",
    "import datetime as dt"
   ]
  },
  {
   "cell_type": "markdown",
   "id": "quantitative-disorder",
   "metadata": {},
   "source": [
    "## String Formatting"
   ]
  },
  {
   "cell_type": "markdown",
   "id": "signal-apparel",
   "metadata": {},
   "source": [
    "### Format Factory"
   ]
  },
  {
   "cell_type": "code",
   "execution_count": null,
   "id": "first-trail",
   "metadata": {},
   "outputs": [],
   "source": [
    "#| exporti \n",
    "\n",
    "FormatterT = TypeVar(\"FormatterT\",str,Callable)"
   ]
  },
  {
   "cell_type": "code",
   "execution_count": null,
   "id": "hydraulic-prophet",
   "metadata": {},
   "outputs": [],
   "source": [
    "#| exporti\n",
    "\n",
    "def format_factory(\n",
    "    string_or_callable:FormatterT,\n",
    "    null_format:str = '',\n",
    "    **kwargs\n",
    ")->Callable:\n",
    "    \"\"\"\n",
    "    Returns a function factory to format a given value. \n",
    "    \"\"\"\n",
    "    if callable(string_or_callable):\n",
    "        def _formatter(val,*args):\n",
    "\n",
    "            if val=='' or isnull(val):\n",
    "                return null_format\n",
    "\n",
    "            \n",
    "            return string_or_callable(val,*args,**kwargs)\n",
    "        return _formatter\n",
    "    \n",
    "    def _formatter(val):\n",
    "        if val=='' or isnull(val):\n",
    "            return null_format\n",
    "\n",
    "        return string_or_callable.format(val)\n",
    "    return _formatter"
   ]
  },
  {
   "cell_type": "code",
   "execution_count": null,
   "id": "nutritional-running",
   "metadata": {},
   "outputs": [],
   "source": [
    "commas = format_factory(\"{:,.0f}\")\n",
    "assert commas(1234.0) == '1,234'"
   ]
  },
  {
   "cell_type": "code",
   "execution_count": null,
   "id": "empirical-beginning",
   "metadata": {},
   "outputs": [],
   "source": [
    "def convert_snake_case(string:str,title:bool=False)->str:\n",
    "    formatted = \" \".join(x for x in string.split('_'))\n",
    "    if title:\n",
    "        return formatted.title()\n",
    "    return formatted\n",
    "\n",
    "snake_to_title = format_factory(convert_snake_case,title=True)\n",
    "assert snake_to_title(\"snake_case\") == \"Snake Case\""
   ]
  },
  {
   "cell_type": "markdown",
   "id": "durable-federation",
   "metadata": {},
   "source": [
    "### Formatting Functions"
   ]
  },
  {
   "cell_type": "code",
   "execution_count": null,
   "id": "graphic-footwear",
   "metadata": {},
   "outputs": [],
   "source": [
    "#| exporti\n",
    "\n",
    "def big_number(num:float,decimal_places:int=2)->str:\n",
    "    magnitude = 0\n",
    "    while abs(num) >= 1000:\n",
    "        magnitude += 1\n",
    "        num /= 1000.0\n",
    "    # add more suffixes if you need them\n",
    "    formatted = f'%.{decimal_places}f%s' % (num, ['', 'K', 'M', 'B', 'T', 'P'][magnitude])\n",
    "    return formatted"
   ]
  },
  {
   "cell_type": "code",
   "execution_count": null,
   "id": "appreciated-investigator",
   "metadata": {},
   "outputs": [],
   "source": [
    "#| exporti \n",
    "\n",
    "def big_dollars(num:float,decimal_places:int=2)->str:\n",
    "    formatted = big_number(num,decimal_places)\n",
    "    return f\"${formatted}\""
   ]
  },
  {
   "cell_type": "code",
   "execution_count": null,
   "id": "improving-parcel",
   "metadata": {},
   "outputs": [],
   "source": [
    "#| exporti\n",
    "\n",
    "def as_multiple(num:float)->str:\n",
    "    if abs(num) < 0.005:\n",
    "        return '-'\n",
    "    else:\n",
    "        return '{:.2f}x'.format(num)"
   ]
  },
  {
   "cell_type": "code",
   "execution_count": null,
   "id": "limited-phone",
   "metadata": {},
   "outputs": [],
   "source": [
    "#| exporti \n",
    "\n",
    "def format_minutes(time):\n",
    "    if type(time)==dt.time:\n",
    "        return time.strftime(\"%M:%S\")\n",
    "    minutes = math.floor(time)\n",
    "    seconds = (time * 60) % 60\n",
    "    return \"%02d:%02d\" % (minutes, seconds)"
   ]
  },
  {
   "cell_type": "code",
   "execution_count": null,
   "id": "86efcf8c-7b5a-40ad-9721-0b9c5f501998",
   "metadata": {},
   "outputs": [],
   "source": [
    "#| exporti\n",
    "def format_date(dt):\n",
    "    try:\n",
    "        return pd.Timestamp(dt).strftime('%b %d %Y')\n",
    "    except:\n",
    "        return dt"
   ]
  },
  {
   "cell_type": "code",
   "execution_count": null,
   "id": "80b0d141-c5e6-4525-a300-c337248726ce",
   "metadata": {},
   "outputs": [],
   "source": [
    "#| exporti\n",
    "def format_month(dt):\n",
    "    try:\n",
    "        return pd.Timestamp(dt).strftime('%b %Y')\n",
    "    except:\n",
    "        return dt"
   ]
  },
  {
   "cell_type": "code",
   "execution_count": null,
   "id": "d48faef7-2af5-4b86-95c8-437eb2c5f57f",
   "metadata": {},
   "outputs": [
    {
     "data": {
      "text/plain": [
       "'Jan 2022'"
      ]
     },
     "execution_count": null,
     "metadata": {},
     "output_type": "execute_result"
    }
   ],
   "source": [
    "format_month('20220101')"
   ]
  },
  {
   "cell_type": "code",
   "execution_count": null,
   "id": "b2f4095f-7120-41e3-9a75-d828de1879c3",
   "metadata": {},
   "outputs": [],
   "source": [
    "#| exporti\n",
    "def as_millions_2dp(num:float)->str:\n",
    "    return '{:,.2f}mm'.format(num/1e6)\n",
    "\n",
    "def as_millions(num:float)->str:\n",
    "    if abs(num) < 0.5e6:\n",
    "        return '-'\n",
    "    else:\n",
    "        return '{:,.0f}mm'.format(num/1e6)\n",
    "\n",
    "def as_billions(num:float)->str:\n",
    "    return '%.2fB' % (num/1e9)\n",
    "\n",
    "def as_thousands_2dp(num:float)->str:\n",
    "    return '{:,.2f}k'.format(num/1e3)\n",
    "\n",
    "def as_thousands(num:float)->str:\n",
    "    return '{:,.0f}k'.format(num/1e3)"
   ]
  },
  {
   "cell_type": "code",
   "execution_count": null,
   "id": "d793b586-646b-482d-ad26-9c950aed822c",
   "metadata": {},
   "outputs": [
    {
     "data": {
      "text/plain": [
       "'1.00M'"
      ]
     },
     "execution_count": null,
     "metadata": {},
     "output_type": "execute_result"
    }
   ],
   "source": [
    "big_number(1e6)"
   ]
  },
  {
   "cell_type": "code",
   "execution_count": null,
   "id": "b742ebb7-93ef-4bfe-b060-4e8b99bbb065",
   "metadata": {},
   "outputs": [],
   "source": [
    "assert big_number(1e6) == '1.00M'\n",
    "assert big_number(1234567)=='1.23M'\n",
    "\n",
    "assert big_dollars(1e6)=='$1.00M'\n",
    "assert big_dollars(1234567891) == '$1.23B'\n",
    "\n",
    "assert as_multiple(1.2) == \"1.20x\"\n",
    "\n",
    "assert format_minutes(60.5) == '60:30'\n",
    "\n",
    "assert format_date('20220212') == 'Feb 12 2022'\n",
    "assert format_date('') == ''\n",
    "assert format_month('20220212') == 'Feb 2022'"
   ]
  },
  {
   "cell_type": "code",
   "execution_count": null,
   "id": "a31f2bea-23ec-4cc0-a1d2-0427773cfa60",
   "metadata": {},
   "outputs": [],
   "source": []
  },
  {
   "cell_type": "code",
   "execution_count": null,
   "id": "a350fbe8-2a40-4de4-babf-900e829f9cc3",
   "metadata": {},
   "outputs": [],
   "source": [
    "assert as_millions(123456799) == '123mm'"
   ]
  },
  {
   "cell_type": "code",
   "execution_count": null,
   "id": "432ba688-6337-4eeb-b383-4c8f515dad97",
   "metadata": {},
   "outputs": [],
   "source": [
    "assert as_millions_2dp(123456799) == '123.46mm'\n",
    "assert as_billions(123456789) == '0.12B'\n",
    "assert as_thousands(12345) == '12k'"
   ]
  },
  {
   "cell_type": "markdown",
   "id": "wicked-refrigerator",
   "metadata": {},
   "source": [
    "### Formatter"
   ]
  },
  {
   "cell_type": "code",
   "execution_count": null,
   "id": "focal-despite",
   "metadata": {},
   "outputs": [],
   "source": [
    "#| export\n",
    "\n",
    "class Formatter():\n",
    "    \"\"\"\n",
    "    A customizable object for applying string formats. \n",
    "    \n",
    "    Any additional attributes passed during instantion must have a name ending in \"_format\". \n",
    "    Values can be either a formattable string (e.g. \"{:.0f}\") or a callable.  \n",
    "    \"\"\"\n",
    "    def __init__(\n",
    "        self,\n",
    "        null_format: str = '',\n",
    "        dollars_format: FormatterT = \"${:,.0f}\",\n",
    "        percent_format: FormatterT = \"{:.0%}\",\n",
    "        percent2dp_format: FormatterT = \"{:.2%}\",\n",
    "        number_format: FormatterT = \"{:,.0f}\",\n",
    "        small_number_format: FormatterT = \"{:.2f}\",\n",
    "        big_number_format: FormatterT = big_number,\n",
    "        big_dollars_format: FormatterT = big_dollars,\n",
    "        multiple_format: FormatterT = as_multiple,\n",
    "        minutes_format: FormatterT = format_minutes,\n",
    "        date_format: FormatterT = format_date,\n",
    "        month_format: FormatterT = format_month,\n",
    "        millions_format: FormatterT = as_millions,\n",
    "        millions2dp_format: FormatterT = as_millions_2dp,\n",
    "        billions_format: FormatterT = as_billions,\n",
    "        thousands_format: FormatterT = as_thousands,\n",
    "        thousands2dp_format: FormatterT = as_thousands_2dp,\n",
    "        **kwargs\n",
    "    ):\n",
    "        self.null_format = null_format\n",
    "        self.dollars_format=dollars_format\n",
    "        self.percent_format=percent_format\n",
    "        self.percent2dp_format=percent2dp_format\n",
    "        self.number_format=number_format\n",
    "        self.small_number_format=small_number_format\n",
    "        self.big_number_format=big_number_format\n",
    "        self.big_dollars_format=big_dollars_format\n",
    "        self.multiple_format = multiple_format\n",
    "        self.minutes_format = minutes_format\n",
    "        self.date_format = date_format\n",
    "        self.month_format = month_format\n",
    "        self.millions_format = millions_format\n",
    "        self.millions2dp_format = millions2dp_format\n",
    "        self.billions_format = billions_format\n",
    "        self.thousands_format = thousands_format\n",
    "        self.thousands2dp_format = thousands2dp_format\n",
    "        self.no_format = lambda x: x\n",
    "        self.text_format = lambda x: x\n",
    "        \n",
    "        #add anything extra\n",
    "        for k,v in kwargs.items():\n",
    "            if not k.split('_')[-1]=='format':\n",
    "                raise ValueError(f\"Keyword arguments passed to the Formatter must end in '_format' \")\n",
    "            setattr(self,k,v)\n",
    "        \n",
    "        # create methods from string_formats\n",
    "        items = [(k,v) for k,v in self.__dict__.items()]\n",
    "        for k,v in items:\n",
    "            if not k.startswith('null'):\n",
    "                method = '_'.join([x for x in k.split('_')][:-1]) # remove \"_format\" from the end of the attribute when setting the method\n",
    "                if type(v)==tuple:\n",
    "                    setattr(\n",
    "                        self,\n",
    "                        method,\n",
    "                        format_factory(\n",
    "                            v[0],\n",
    "                            null_format = self.null_format,\n",
    "                            **v[1]\n",
    "                        )\n",
    "                    )\n",
    "                else:\n",
    "                    setattr(\n",
    "                        self,\n",
    "                        method,\n",
    "                        format_factory(v,null_format=self.null_format)\n",
    "                    )"
   ]
  },
  {
   "cell_type": "markdown",
   "id": "institutional-symphony",
   "metadata": {},
   "source": [
    "#### Examples"
   ]
  },
  {
   "cell_type": "code",
   "execution_count": null,
   "id": "1f52649d-94be-454f-bd93-2a03c845c783",
   "metadata": {},
   "outputs": [],
   "source": [
    "fmt = Formatter()\n",
    "\n",
    "\n",
    "\n",
    "assert fmt.big_dollars(1234567) == big_dollars(1234567) == '$1.23M'\n",
    "assert fmt.multiple(1.22999)=='1.23x'\n",
    "assert fmt.percent(.0123)==\"1%\"\n",
    "assert fmt.percent2dp(.0123)==\"1.23%\"\n",
    "assert fmt.date('20220212')=='Feb 12 2022'\n",
    "assert fmt.month('20220212')=='Feb 2022'\n",
    "assert fmt.minutes(60.5)==\"60:30\"\n",
    "assert fmt.millions(123456789) == \"123mm\"\n",
    "assert fmt.millions2dp(123456789) == \"123.46mm\"\n",
    "assert fmt.billions(1234567890) == \"1.23B\"\n",
    "assert fmt.no_format('hello') == 'hello'\n",
    "assert fmt.no_format(2) == 2"
   ]
  },
  {
   "cell_type": "markdown",
   "id": "extended-broadcasting",
   "metadata": {},
   "source": [
    "#### Formatting Null Values"
   ]
  },
  {
   "cell_type": "markdown",
   "id": "advanced-flour",
   "metadata": {},
   "source": [
    "The `null_format` attribute of the Formatter object is a string that gets returned when any method is called on a null value.  \n",
    "\n",
    "By default, nulls are represented as empty strings"
   ]
  },
  {
   "cell_type": "code",
   "execution_count": null,
   "id": "southeast-belfast",
   "metadata": {},
   "outputs": [],
   "source": [
    "import numpy as np\n",
    "\n",
    "assert fmt.big_dollars(np.nan)==fmt.number(np.nan)==''==fmt.null_format"
   ]
  },
  {
   "cell_type": "markdown",
   "id": "silver-disabled",
   "metadata": {},
   "source": [
    "Formatter will treat empty strings as null."
   ]
  },
  {
   "cell_type": "code",
   "execution_count": null,
   "id": "enormous-illness",
   "metadata": {},
   "outputs": [],
   "source": [
    "assert fmt.percent('')==fmt.null_format"
   ]
  },
  {
   "cell_type": "code",
   "execution_count": null,
   "id": "ruled-quality",
   "metadata": {},
   "outputs": [],
   "source": [
    "custom_null_format = \"I'm a null value!\"\n",
    "fmt_custom_null = Formatter(null_format=custom_null_format)\n",
    "assert fmt_custom_null.big_number(np.nan)==fmt_custom_null.number(np.nan)==custom_null_format"
   ]
  },
  {
   "cell_type": "markdown",
   "id": "signed-basement",
   "metadata": {},
   "source": [
    "Override default implementation at instantiation: "
   ]
  },
  {
   "cell_type": "code",
   "execution_count": null,
   "id": "documentary-senate",
   "metadata": {},
   "outputs": [],
   "source": [
    "fmt_custom_dollars = Formatter(\n",
    "    dollars_format=\"${:,.2f}\"\n",
    ")\n",
    "assert fmt_custom_dollars.dollars(12345.678) == \"$12,345.68\""
   ]
  },
  {
   "cell_type": "code",
   "execution_count": null,
   "id": "color-belarus",
   "metadata": {},
   "outputs": [
    {
     "data": {
      "text/plain": [
       "'snake case'"
      ]
     },
     "execution_count": null,
     "metadata": {},
     "output_type": "execute_result"
    }
   ],
   "source": [
    "fmt_custom = Formatter(\n",
    "    snake_format = convert_snake_case\n",
    ")\n",
    "fmt_custom.snake(\"snake_case\")"
   ]
  },
  {
   "cell_type": "code",
   "execution_count": null,
   "id": "foreign-change",
   "metadata": {},
   "outputs": [],
   "source": [
    "# if you need to pass arguments to the function factory \n",
    "fmt_custom_with_kwargs = Formatter(\n",
    "    snake_to_camel_format = (\n",
    "        convert_snake_case,{'title':True}\n",
    "    )\n",
    ")\n",
    "assert fmt_custom_with_kwargs.snake_to_camel(\"snake_case\")=='Snake Case'"
   ]
  },
  {
   "cell_type": "markdown",
   "id": "sacred-buffalo",
   "metadata": {},
   "source": [
    "## Colors"
   ]
  },
  {
   "cell_type": "code",
   "execution_count": null,
   "id": "surface-illinois",
   "metadata": {},
   "outputs": [],
   "source": [
    "#| export\n",
    "\n",
    "class ListOfColors(list):\n",
    "    \"\"\"\n",
    "    List of validated colors that can be converted to hex or rgb\n",
    "    \"\"\"\n",
    "    colors:List[Color]\n",
    "    \n",
    "    @classmethod\n",
    "    def __get_validators__(cls):\n",
    "        # one or more validators may be yielded which will be called in the\n",
    "        # order to validate the input, each validator will receive as an input\n",
    "        # the value returned from the previous validator\n",
    "        yield cls.validate\n",
    "\n",
    "    @classmethod\n",
    "    def __modify_schema__(cls, field_schema):\n",
    "        # __modify_schema__ should mutate the dict it receives in place,\n",
    "        # the returned value will be ignored\n",
    "        field_schema.update(\n",
    "            \n",
    "            description='List of Colors'\n",
    "            \n",
    "        )\n",
    "\n",
    "    @classmethod\n",
    "    def validate(cls, v):\n",
    "        \n",
    "        return cls(colors=v)\n",
    "    \n",
    "    def __init__(self,colors):\n",
    "        \n",
    "        self.colors = [Color(x) for x in colors]\n",
    "        super().__init__(self.colors)\n",
    "        \n",
    "    def as_hex(self):\n",
    "        return [x.as_hex() for x in self.colors]\n",
    "    def as_rgb(self):\n",
    "        return [x.as_rgb() for x in self.colors]"
   ]
  },
  {
   "cell_type": "code",
   "execution_count": null,
   "id": "automatic-premiere",
   "metadata": {},
   "outputs": [
    {
     "data": {
      "text/plain": [
       "[Color('red', rgb=(255, 0, 0)),\n",
       " Color('green', rgb=(0, 128, 0)),\n",
       " Color('blue', rgb=(0, 0, 255))]"
      ]
     },
     "execution_count": null,
     "metadata": {},
     "output_type": "execute_result"
    }
   ],
   "source": [
    "red_green_blue = ListOfColors(['red','green','blue'])\n",
    "red_green_blue"
   ]
  },
  {
   "cell_type": "code",
   "execution_count": null,
   "id": "first-membership",
   "metadata": {},
   "outputs": [],
   "source": [
    "#| export \n",
    "\n",
    "class PretiumColors(BaseModel):\n",
    "    color_format: Literal['hex','rgb'] = 'hex'\n",
    "    pretium_blue: Color = \"#1f0ee2\"\n",
    "    progress_green: Color = 'teal'\n",
    "    real_estate: Color = '#FF9900'\n",
    "    resi_credit: Color = \"rgb(118,78,159)\"\n",
    "    credit: Color = 'rgb(225,225,179)'\n",
    "    holdings: Color = 'rgb(128,177,211)'\n",
    "    sequential: ListOfColors = [\n",
    "        '#1F0EE2',\n",
    "        '#A3CBD6',\n",
    "        '#DAEAEF',\n",
    "        '#70878B',\n",
    "        '#BCC2C5',\n",
    "        '#3A7382',\n",
    "        '#62A6B9',\n",
    "        '#375570',\n",
    "        '#759ABB',\n",
    "        '#D1DDE8',\n",
    "        '#9EAEB1',\n",
    "        '#DEE1E2'\n",
    "    ]\n",
    "    \n",
    "    @root_validator\n",
    "    def _validate_colors(cls,values):\n",
    "        for k,v in values.items():\n",
    "            if not isinstance(v,Color) and k!='color_format':\n",
    "                try:\n",
    "                    if isinstance(v,list):\n",
    "                        values[k]=ListOfColors(v)\n",
    "                    else:\n",
    "                        values[k]=Color(v)\n",
    "                except Exception as e:\n",
    "                    raise ValueError(f\"'{k}'='{v}' couldn't be converted to a Color. {e}\")\n",
    "        return values\n",
    "    \n",
    "    @root_validator(skip_on_failure=True)\n",
    "    def _convert_to_color_format(cls,values):\n",
    "        color_format = values.pop('color_format')\n",
    "        if color_format == 'hex':\n",
    "            values = {k:v.as_hex() for k,v in values.items()}\n",
    "        elif color_format == 'rgb':\n",
    "            values = {k:v.as_rgb() for k,v in values.items()}\n",
    "        values['color_format'] = color_format\n",
    "        return values\n",
    "    \n",
    "    class Config:\n",
    "        extra = 'allow'"
   ]
  },
  {
   "cell_type": "code",
   "execution_count": null,
   "id": "bronze-mercy",
   "metadata": {},
   "outputs": [
    {
     "data": {
      "text/plain": [
       "{'pretium_blue': '#1f0ee2',\n",
       " 'progress_green': '#008080',\n",
       " 'real_estate': '#f90',\n",
       " 'resi_credit': '#764e9f',\n",
       " 'credit': '#e1e1b3',\n",
       " 'holdings': '#80b1d3',\n",
       " 'sequential': ['#1f0ee2',\n",
       "  '#a3cbd6',\n",
       "  '#daeaef',\n",
       "  '#70878b',\n",
       "  '#bcc2c5',\n",
       "  '#3a7382',\n",
       "  '#62a6b9',\n",
       "  '#375570',\n",
       "  '#759abb',\n",
       "  '#d1dde8',\n",
       "  '#9eaeb1',\n",
       "  '#dee1e2'],\n",
       " 'color_format': 'hex'}"
      ]
     },
     "execution_count": null,
     "metadata": {},
     "output_type": "execute_result"
    }
   ],
   "source": [
    "colors = PretiumColors()\n",
    "# all hex by default\n",
    "colors.dict()"
   ]
  },
  {
   "cell_type": "code",
   "execution_count": null,
   "id": "valued-pride",
   "metadata": {},
   "outputs": [
    {
     "data": {
      "text/plain": [
       "{'pretium_blue': 'rgb(31, 14, 226)',\n",
       " 'progress_green': 'rgb(0, 128, 128)',\n",
       " 'real_estate': 'rgb(255, 153, 0)',\n",
       " 'resi_credit': 'rgb(118, 78, 159)',\n",
       " 'credit': 'rgb(225, 225, 179)',\n",
       " 'holdings': 'rgb(128, 177, 211)',\n",
       " 'sequential': ['rgb(31, 14, 226)',\n",
       "  'rgb(163, 203, 214)',\n",
       "  'rgb(218, 234, 239)',\n",
       "  'rgb(112, 135, 139)',\n",
       "  'rgb(188, 194, 197)',\n",
       "  'rgb(58, 115, 130)',\n",
       "  'rgb(98, 166, 185)',\n",
       "  'rgb(55, 85, 112)',\n",
       "  'rgb(117, 154, 187)',\n",
       "  'rgb(209, 221, 232)',\n",
       "  'rgb(158, 174, 177)',\n",
       "  'rgb(222, 225, 226)'],\n",
       " 'color_format': 'rgb'}"
      ]
     },
     "execution_count": null,
     "metadata": {},
     "output_type": "execute_result"
    }
   ],
   "source": [
    "rgb_colors = PretiumColors(color_format='rgb')\n",
    "rgb_colors.dict()"
   ]
  },
  {
   "cell_type": "code",
   "execution_count": null,
   "id": "suffering-circus",
   "metadata": {},
   "outputs": [
    {
     "data": {
      "text/plain": [
       "{'pretium_blue': '#1f0ee2',\n",
       " 'progress_green': '#008080',\n",
       " 'real_estate': '#f90',\n",
       " 'resi_credit': '#764e9f',\n",
       " 'credit': '#e1e1b3',\n",
       " 'holdings': '#80b1d3',\n",
       " 'sequential': ['#1f0ee2',\n",
       "  '#a3cbd6',\n",
       "  '#daeaef',\n",
       "  '#70878b',\n",
       "  '#bcc2c5',\n",
       "  '#3a7382',\n",
       "  '#62a6b9',\n",
       "  '#375570',\n",
       "  '#759abb',\n",
       "  '#d1dde8',\n",
       "  '#9eaeb1',\n",
       "  '#dee1e2'],\n",
       " 'BlueGreenRed': ['#00f', '#008000', '#f00'],\n",
       " 'color_format': 'hex'}"
      ]
     },
     "execution_count": null,
     "metadata": {},
     "output_type": "execute_result"
    }
   ],
   "source": [
    "PretiumColors(BlueGreenRed = ['blue','green','red']).dict()"
   ]
  },
  {
   "cell_type": "code",
   "execution_count": null,
   "id": "based-photograph",
   "metadata": {},
   "outputs": [
    {
     "data": {
      "text/plain": [
       "'#00008b'"
      ]
     },
     "execution_count": null,
     "metadata": {},
     "output_type": "execute_result"
    }
   ],
   "source": [
    "# adding custom colors\n",
    "colors = PretiumColors(\n",
    "    other_color='darkblue',\n",
    "    \n",
    ")\n",
    "colors.other_color"
   ]
  },
  {
   "cell_type": "code",
   "execution_count": null,
   "id": "desperate-prototype",
   "metadata": {},
   "outputs": [
    {
     "name": "stdout",
     "output_type": "stream",
     "text": [
      "1 validation error for PretiumColors\n",
      "__root__\n",
      "  'bad'='<not a proper color>' couldn't be converted to a Color. value is not a valid color: string not recognised as a valid color (type=value_error)\n"
     ]
    }
   ],
   "source": [
    "from pydantic import ValidationError\n",
    "\n",
    "try:\n",
    "    PretiumColors(bad='<not a proper color>')\n",
    "except ValidationError as e:\n",
    "    print(e)"
   ]
  },
  {
   "cell_type": "markdown",
   "id": "protective-frequency",
   "metadata": {},
   "source": [
    "## Plotly Templates"
   ]
  },
  {
   "cell_type": "code",
   "execution_count": null,
   "id": "beginning-defense",
   "metadata": {},
   "outputs": [],
   "source": [
    "#| exporti \n",
    "\n",
    "pio.templates['top-legend'] = go.layout.Template(\n",
    "    layout_paper_bgcolor='rgb(248, 248, 255)',\n",
    "    layout_plot_bgcolor='rgb(248, 248, 255)',\n",
    "    layout_margin=dict(\n",
    "        l=50,\n",
    "        r=50,\n",
    "        b=100,\n",
    "        t=100,\n",
    "        pad=4\n",
    "    ),\n",
    "    layout_legend=dict(\n",
    "        orientation = 'h',\n",
    "        yanchor='top',\n",
    "        y=1.10,\n",
    "        xanchor='left',\n",
    "        x=0\n",
    "    )\n",
    ")"
   ]
  },
  {
   "cell_type": "code",
   "execution_count": null,
   "id": "effective-auditor",
   "metadata": {},
   "outputs": [
    {
     "name": "stdout",
     "output_type": "stream",
     "text": [
      "Converted 00_core.ipynb.\n",
      "Converted 01_credit_data.ipynb.\n",
      "Converted 01_data.ipynb.\n",
      "Converted 01_kpi_data.ipynb.\n",
      "Converted 01_models.data.ipynb.\n",
      "Converted 01_resicredit_data.ipynb.\n",
      "Converted 02_reportlab_document.ipynb.\n",
      "Converted 77_formatting.ipynb.\n",
      "Converted 78_plotting.ipynb.\n",
      "Converted 88_temp_static.ipynb.\n",
      "Converted 99_utilities.ipynb.\n",
      "Converted anchor_reporting.ipynb.\n",
      "Converted index.ipynb.\n",
      "Converted 10_models.reportlab.ipynb.\n",
      "Converted 11_models.report_definitions.ipynb.\n",
      "Converted 12_models.create_document.ipynb.\n",
      "Converted selene_kpi_queries.ipynb.\n",
      "Converted KPI Report Master.ipynb.\n",
      "Converted anchor_risk.ipynb.\n",
      "Converted credit_risk.ipynb.\n",
      "Converted kpi_report.ipynb.\n",
      "Converted kpi_report_support_funcs.ipynb.\n",
      "Converted reportlab_test.ipynb.\n",
      "Converted resicredit_risk.ipynb.\n",
      "Converted sfr_risk.ipynb.\n",
      "Converted anchor_calcs.ipynb.\n",
      "Converted credit_calcs.ipynb.\n",
      "Converted dephaven_kpis.ipynb.\n",
      "Converted p3_redemption_risk.ipynb.\n",
      "Converted progress_kpis.ipynb.\n",
      "Converted resi_credit.ipynb.\n",
      "Converted selene_kpis.ipynb.\n",
      "Converted sfr_balancesheet_risk.ipynb.\n",
      "Converted sfr_liquidity.ipynb.\n",
      "Converted sfr_warehouse_risk.ipynb.\n"
     ]
    }
   ],
   "source": [
    "#| include: false\n",
    "!nbdev_build_lib"
   ]
  },
  {
   "cell_type": "code",
   "execution_count": null,
   "id": "differential-bosnia",
   "metadata": {},
   "outputs": [],
   "source": []
  }
 ],
 "metadata": {
  "kernelspec": {
   "display_name": "Python 3 (ipykernel)",
   "language": "python",
   "name": "python3"
  }
 },
 "nbformat": 4,
 "nbformat_minor": 5
}
