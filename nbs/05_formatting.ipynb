{
 "cells": [
  {
   "cell_type": "raw",
   "id": "c83bc1ba",
   "metadata": {},
   "source": [
    "---\n",
    "description: String formatting and Pretium colors\n",
    "output-file: formatting.html\n",
    "title: Formatting\n",
    "\n",
    "---\n",
    "\n"
   ]
  },
  {
   "cell_type": "code",
   "execution_count": null,
   "id": "worldwide-shoulder",
   "metadata": {},
   "outputs": [],
   "source": [
    "#| default_exp formatting"
   ]
  },
  {
   "cell_type": "code",
   "execution_count": null,
   "id": "tropical-frederick",
   "metadata": {},
   "outputs": [],
   "source": [
    "#| exporti \n",
    "\n",
    "from typing import (\n",
    "    Union,\n",
    "    Callable,\n",
    "    TypeVar,\n",
    "    Literal,\n",
    "    List\n",
    ")\n",
    "from archetypon.base_model import *\n",
    "from pydantic import root_validator\n",
    "from pydantic.color import Color\n",
    "import math\n",
    "from pandas import isnull\n",
    "import pandas as pd\n",
    "import datetime as dt"
   ]
  },
  {
   "cell_type": "markdown",
   "id": "quantitative-disorder",
   "metadata": {},
   "source": [
    "## String Formatting"
   ]
  },
  {
   "cell_type": "markdown",
   "id": "signal-apparel",
   "metadata": {},
   "source": [
    "### Format Factory"
   ]
  },
  {
   "cell_type": "code",
   "execution_count": null,
   "id": "first-trail",
   "metadata": {},
   "outputs": [],
   "source": [
    "#| exporti \n",
    "\n",
    "FormatterT = TypeVar(\"FormatterT\",str,Callable)"
   ]
  },
  {
   "cell_type": "code",
   "execution_count": null,
   "id": "hydraulic-prophet",
   "metadata": {},
   "outputs": [],
   "source": [
    "#| export\n",
    "\n",
    "def format_factory(\n",
    "    string_or_callable:FormatterT,\n",
    "    null_format:str = '',\n",
    "    **kwargs\n",
    ")->Callable:\n",
    "    \"\"\"\n",
    "    Returns a function factory to format a given value. \n",
    "    \"\"\"\n",
    "    if callable(string_or_callable):\n",
    "        def _formatter(val,*args):\n",
    "\n",
    "            if val=='' or isnull(val):\n",
    "                return null_format\n",
    "            return string_or_callable(val,*args,**kwargs)\n",
    "        \n",
    "        return _formatter\n",
    "    \n",
    "    def _formatter(val):\n",
    "        if val=='' or isnull(val):\n",
    "            return null_format\n",
    "\n",
    "        return string_or_callable.format(val)\n",
    "    return _formatter"
   ]
  },
  {
   "cell_type": "code",
   "execution_count": null,
   "id": "nutritional-running",
   "metadata": {},
   "outputs": [],
   "source": [
    "commas = format_factory(\"{:,.0f}\")\n",
    "assert commas(1234.0) == '1,234'"
   ]
  },
  {
   "cell_type": "code",
   "execution_count": null,
   "id": "empirical-beginning",
   "metadata": {},
   "outputs": [],
   "source": [
    "def convert_snake_case(string:str,title:bool=False)->str:\n",
    "    formatted = \" \".join(x for x in string.split('_'))\n",
    "    if title:\n",
    "        return formatted.title()\n",
    "    return formatted\n",
    "\n",
    "snake_to_title = format_factory(convert_snake_case,title=True)\n",
    "assert snake_to_title(\"snake_case\") == \"Snake Case\""
   ]
  },
  {
   "cell_type": "markdown",
   "id": "durable-federation",
   "metadata": {},
   "source": [
    "### Formatting Functions"
   ]
  },
  {
   "cell_type": "code",
   "execution_count": null,
   "id": "graphic-footwear",
   "metadata": {},
   "outputs": [],
   "source": [
    "#| export\n",
    "\n",
    "def big_number(num:float,decimal_places:int=2)->str:\n",
    "    magnitude = 0\n",
    "    while abs(num) >= 1000:\n",
    "        magnitude += 1\n",
    "        num /= 1000.0\n",
    "    # add more suffixes if you need them\n",
    "    formatted = f'%.{decimal_places}f%s' % (num, ['', 'K', 'M', 'B', 'T', 'P'][magnitude])\n",
    "    return formatted"
   ]
  },
  {
   "cell_type": "code",
   "execution_count": null,
   "id": "appreciated-investigator",
   "metadata": {},
   "outputs": [],
   "source": [
    "#| export\n",
    "\n",
    "def big_dollars(num:float,decimal_places:int=2)->str:\n",
    "    formatted = big_number(num,decimal_places)\n",
    "    return f\"${formatted}\""
   ]
  },
  {
   "cell_type": "code",
   "execution_count": null,
   "id": "improving-parcel",
   "metadata": {},
   "outputs": [],
   "source": [
    "#| export\n",
    "\n",
    "def as_multiple(num:float)->str:\n",
    "    if abs(num) < 0.005:\n",
    "        return '-'\n",
    "    else:\n",
    "        return '{:.2f}x'.format(num)"
   ]
  },
  {
   "cell_type": "code",
   "execution_count": null,
   "id": "b742ebb7-93ef-4bfe-b060-4e8b99bbb065",
   "metadata": {},
   "outputs": [],
   "source": [
    "assert big_number(1e6) == '1.00M'\n",
    "assert big_number(1234567)=='1.23M'\n",
    "\n",
    "assert big_dollars(1e6)=='$1.00M'\n",
    "assert big_dollars(1234567891) == '$1.23B'\n",
    "\n",
    "assert as_multiple(1.2) == \"1.20x\""
   ]
  },
  {
   "cell_type": "code",
   "execution_count": null,
   "id": "d01e59cc-98a3-4294-a0cb-aadf9335463f",
   "metadata": {},
   "outputs": [],
   "source": [
    "#| export \n",
    "\n",
    "def format_minutes(time:float)->str:\n",
    "    \"\"\"Takes in minutes as a float and converts to MM:SS\"\"\"\n",
    "    if type(time)==dt.time:\n",
    "        return time.strftime(\"%M:%S\")\n",
    "    minutes = math.floor(time)\n",
    "    seconds = (time * 60) % 60\n",
    "    return \"%02d:%02d\" % (minutes, seconds)"
   ]
  },
  {
   "cell_type": "markdown",
   "id": "wicked-refrigerator",
   "metadata": {},
   "source": [
    "### Formatter"
   ]
  },
  {
   "cell_type": "code",
   "execution_count": null,
   "id": "focal-despite",
   "metadata": {},
   "outputs": [],
   "source": [
    "#| export\n",
    "\n",
    "class Formatter():\n",
    "    \"\"\"\n",
    "    A customizable object for applying string formats. \n",
    "    \n",
    "    Any additional attributes passed during instantion must have a name ending in \"_format\". \n",
    "    Values can be either a formattable string (e.g. \"{:.0f}\") or a callable.  \n",
    "    \"\"\"\n",
    "    def __init__(\n",
    "        self,\n",
    "        null_format: str = '',\n",
    "        dollars_format: FormatterT = \"${:,.0f}\",\n",
    "        percent_format: FormatterT = \"{:.0%}\",\n",
    "        percent2dp_format: FormatterT = \"{:.2%}\",\n",
    "        number_format: FormatterT = \"{:,.0f}\",\n",
    "        small_number_format: FormatterT = \"{:.2f}\",\n",
    "        big_number_format: FormatterT = big_number,\n",
    "        big_dollars_format: FormatterT = big_dollars,\n",
    "        multiple_format: FormatterT = as_multiple,\n",
    "        minutes_format: FormatterT = format_minutes,\n",
    "        **kwargs\n",
    "    ):\n",
    "        self.null_format = null_format\n",
    "        self.dollars_format=dollars_format\n",
    "        self.percent_format=percent_format\n",
    "        self.percent2dp_format=percent2dp_format\n",
    "        self.number_format=number_format\n",
    "        self.small_number_format=small_number_format\n",
    "        self.big_number_format=big_number_format\n",
    "        self.big_dollars_format=big_dollars_format\n",
    "        self.multiple_format = multiple_format\n",
    "        self.minutes_format = minutes_format\n",
    "        \n",
    "        #add anything extra\n",
    "        for k,v in kwargs.items():\n",
    "            if not k.split('_')[-1]=='format':\n",
    "                raise ValueError(f\"Keyword arguments passed to the Formatter must end in '_format' \")\n",
    "            setattr(self,k,v)\n",
    "        \n",
    "        # create methods from string_formats\n",
    "        items = [(k,v) for k,v in self.__dict__.items()]\n",
    "        for k,v in items:\n",
    "            if not k.startswith('null'):\n",
    "                method = '_'.join([x for x in k.split('_')][:-1]) # remove \"_format\" from the end of the attribute when setting the method\n",
    "                if type(v)==tuple:\n",
    "                    setattr(\n",
    "                        self,\n",
    "                        method,\n",
    "                        format_factory(\n",
    "                            v[0],\n",
    "                            null_format = self.null_format,\n",
    "                            **v[1]\n",
    "                        )\n",
    "                    )\n",
    "                else:\n",
    "                    setattr(\n",
    "                        self,\n",
    "                        method,\n",
    "                        format_factory(v,null_format=self.null_format)\n",
    "                    )"
   ]
  },
  {
   "cell_type": "markdown",
   "id": "institutional-symphony",
   "metadata": {},
   "source": [
    "#### Example"
   ]
  },
  {
   "cell_type": "code",
   "execution_count": null,
   "id": "1f52649d-94be-454f-bd93-2a03c845c783",
   "metadata": {},
   "outputs": [],
   "source": [
    "fmt = Formatter(\n",
    "    # adding custom formats\n",
    "    date_format = lambda x: pd.Timestamp(x).strftime('%b %d %Y'),\n",
    "    month_format = \"{:%b %Y}\",\n",
    "    millions_format = lambda x: \"{:.0f}mm\".format(x/1e6),\n",
    ")\n",
    "\n",
    "\n",
    "\n",
    "assert fmt.big_dollars(1234567) == big_dollars(1234567) == '$1.23M'\n",
    "assert fmt.multiple(1.22999)=='1.23x'\n",
    "assert fmt.percent(.0123)==\"1%\"\n",
    "assert fmt.percent2dp(.0123)==\"1.23%\"\n",
    "assert fmt.date('20220212')=='Feb 12 2022'\n",
    "assert fmt.month(dt.date(1994,6,11))=='Jun 1994'\n",
    "assert fmt.minutes(60.5)==\"60:30\"\n",
    "assert fmt.millions(123456789) == \"123mm\""
   ]
  },
  {
   "cell_type": "markdown",
   "id": "extended-broadcasting",
   "metadata": {},
   "source": [
    "#### Formatting Null Values"
   ]
  },
  {
   "cell_type": "markdown",
   "id": "advanced-flour",
   "metadata": {},
   "source": [
    "The `null_format` attribute of the Formatter object is a string that gets returned when any method is called on a null value.  \n",
    "\n",
    "By default, nulls are represented as empty strings"
   ]
  },
  {
   "cell_type": "code",
   "execution_count": null,
   "id": "c65061ad-8d20-4a9e-8c45-1f3386a9cb50",
   "metadata": {},
   "outputs": [],
   "source": [
    "import numpy as np"
   ]
  },
  {
   "cell_type": "code",
   "execution_count": null,
   "id": "southeast-belfast",
   "metadata": {},
   "outputs": [],
   "source": [
    "assert fmt.big_dollars(np.nan)==fmt.number(np.nan)==''==fmt.null_format"
   ]
  },
  {
   "cell_type": "markdown",
   "id": "silver-disabled",
   "metadata": {},
   "source": [
    "Formatter will treat empty strings as null."
   ]
  },
  {
   "cell_type": "code",
   "execution_count": null,
   "id": "enormous-illness",
   "metadata": {},
   "outputs": [],
   "source": [
    "assert fmt.percent('')==fmt.null_format"
   ]
  },
  {
   "cell_type": "code",
   "execution_count": null,
   "id": "ruled-quality",
   "metadata": {},
   "outputs": [],
   "source": [
    "custom_null_format = \"I'm a null value!\"\n",
    "fmt_custom_null = Formatter(null_format=custom_null_format)\n",
    "assert fmt_custom_null.big_number(np.nan)==fmt_custom_null.number(np.nan)==custom_null_format"
   ]
  },
  {
   "cell_type": "markdown",
   "id": "signed-basement",
   "metadata": {},
   "source": [
    "Override default implementation at instantiation: "
   ]
  },
  {
   "cell_type": "code",
   "execution_count": null,
   "id": "documentary-senate",
   "metadata": {},
   "outputs": [],
   "source": [
    "fmt_custom_dollars = Formatter(\n",
    "    dollars_format=\"${:,.2f}\"\n",
    ")\n",
    "assert fmt_custom_dollars.dollars(12345.678) == \"$12,345.68\""
   ]
  },
  {
   "cell_type": "code",
   "execution_count": null,
   "id": "color-belarus",
   "metadata": {},
   "outputs": [
    {
     "data": {
      "text/plain": [
       "'snake case'"
      ]
     },
     "execution_count": null,
     "metadata": {},
     "output_type": "execute_result"
    }
   ],
   "source": [
    "fmt_custom = Formatter(\n",
    "    snake_format = convert_snake_case\n",
    ")\n",
    "fmt_custom.snake(\"snake_case\")"
   ]
  },
  {
   "cell_type": "code",
   "execution_count": null,
   "id": "foreign-change",
   "metadata": {},
   "outputs": [],
   "source": [
    "# if you need to pass arguments to the function factory \n",
    "fmt_custom_with_kwargs = Formatter(\n",
    "    snake_to_camel_format = (\n",
    "        convert_snake_case,{'title':True}\n",
    "    ),\n",
    "    big_dollars_format = (\n",
    "        big_dollars,\n",
    "        {'decimal_places':4}\n",
    "    )\n",
    ")\n",
    "assert fmt_custom_with_kwargs.snake_to_camel(\"snake_case\")=='Snake Case'"
   ]
  },
  {
   "cell_type": "code",
   "execution_count": null,
   "id": "c414a9f4-87f1-46e7-a2a3-6f8b14f06196",
   "metadata": {},
   "outputs": [],
   "source": [
    "assert fmt_custom.big_dollars(1.234e9)=='$1.23B'\n",
    "assert fmt_custom_with_kwargs.big_dollars(1.1234e9)=='$1.1234B'"
   ]
  },
  {
   "cell_type": "code",
   "execution_count": null,
   "id": "effective-auditor",
   "metadata": {},
   "outputs": [],
   "source": [
    "#| include: false\n",
    "!nbdev_export"
   ]
  },
  {
   "cell_type": "code",
   "execution_count": null,
   "id": "differential-bosnia",
   "metadata": {},
   "outputs": [],
   "source": []
  }
 ],
 "metadata": {
  "kernelspec": {
   "display_name": "python3",
   "language": "python",
   "name": "python3"
  }
 },
 "nbformat": 4,
 "nbformat_minor": 5
}
