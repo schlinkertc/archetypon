{
 "cells": [
  {
   "cell_type": "code",
   "execution_count": null,
   "metadata": {},
   "outputs": [],
   "source": [
    "#| hide\n",
    "from archetypon.core import *"
   ]
  },
  {
   "cell_type": "markdown",
   "metadata": {},
   "source": [
    "# Archetypon\n",
    "\n",
    "> Data Modeling and validation with Pydantic and Pandas, specifically designed for Jupyter Notebooks."
   ]
  },
  {
   "cell_type": "markdown",
   "metadata": {},
   "source": [
    "`archetypon` (pronounced \"archetype on\") is a library that uses Pydantic to validate Pandas Dataframes. It includes some usefull extensions of Pydantic's BaseModel class display models in Jupyter Notebooks and Jupyter Lab.  \n",
    "\n",
    "It's built using `nbdev`"
   ]
  },
  {
   "cell_type": "markdown",
   "metadata": {},
   "source": [
    "## Install"
   ]
  },
  {
   "cell_type": "markdown",
   "metadata": {},
   "source": [
    "```sh\n",
    "pip install archetypon\n",
    "```"
   ]
  }
 ],
 "metadata": {
  "kernelspec": {
   "display_name": "Python 3 (ipykernel)",
   "language": "python",
   "name": "python3"
  }
 },
 "nbformat": 4,
 "nbformat_minor": 4
}
