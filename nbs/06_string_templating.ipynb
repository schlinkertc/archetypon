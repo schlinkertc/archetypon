{
 "cells": [
  {
   "cell_type": "raw",
   "id": "ffe5c393",
   "metadata": {},
   "source": [
    "---\n",
    "output-file: string_templating.html\n",
    "title: String Templating\n",
    "description: A Model to extract key value pairs from a formatted string\n",
    "\n",
    "---\n",
    "\n"
   ]
  },
  {
   "cell_type": "code",
   "execution_count": null,
   "id": "8e7e9944-da5e-44fa-b47c-4bd6591ab334",
   "metadata": {},
   "outputs": [],
   "source": [
    "#| default_exp string_templating"
   ]
  },
  {
   "cell_type": "code",
   "execution_count": null,
   "id": "ec12aede-d643-4f26-a7f4-06ec7370ff04",
   "metadata": {},
   "outputs": [],
   "source": [
    "#| exporti \n",
    "\n",
    "from archetypon.base_model import BaseModel\n",
    "from pydantic import root_validator,validator\n",
    "from typing import *\n",
    "import string\n",
    "import re"
   ]
  },
  {
   "cell_type": "code",
   "execution_count": null,
   "id": "af555c34-5122-4491-84c2-bb294494699f",
   "metadata": {},
   "outputs": [],
   "source": [
    "#| export\n",
    "\n",
    "def get_formatters_from_string(input_string:str)->List[str]:\n",
    "    if input_string:\n",
    "        keys = [tup[1] for tup in string.Formatter().parse(input_string) if tup[1] is not None]\n",
    "        if len(keys)>0:\n",
    "            return keys\n",
    "        else:\n",
    "            return {}"
   ]
  },
  {
   "cell_type": "code",
   "execution_count": null,
   "id": "abc30703-2a52-4fa7-8811-7a34b73ea148",
   "metadata": {},
   "outputs": [],
   "source": [
    "f_string = 'I live in {city}, {state}, {country}.'\n",
    "assert get_formatters_from_string(f_string) == ['city','state','country']"
   ]
  },
  {
   "cell_type": "code",
   "execution_count": null,
   "id": "e51753aa-8f72-4589-b0a0-e6e92db1468e",
   "metadata": {},
   "outputs": [],
   "source": [
    "#| export \n",
    "\n",
    "def string_to_dict(string, pattern):\n",
    "    regex = re.sub(r'{(.+?)}', r'(?P<_\\1>.+)', pattern)\n",
    "    values = list(re.search(regex, string).groups())\n",
    "    keys = re.findall(r'{(.+?)}', pattern)\n",
    "    _dict = dict(zip(keys, values))\n",
    "    return _dict"
   ]
  },
  {
   "cell_type": "code",
   "execution_count": null,
   "id": "66694722-07b9-4ff5-92ac-dbb57c35e6f7",
   "metadata": {},
   "outputs": [
    {
     "data": {
      "text/plain": [
       "{'city': 'Brooklyn', 'state': 'New York', 'country': 'US'}"
      ]
     },
     "execution_count": null,
     "metadata": {},
     "output_type": "execute_result"
    }
   ],
   "source": [
    "my_string = 'I live in Brooklyn, New York, USA'\n",
    "string_to_dict(my_string,f_string)"
   ]
  },
  {
   "cell_type": "code",
   "execution_count": null,
   "id": "0fa7e63c-ac14-4e51-ad7b-c26d68189eaf",
   "metadata": {},
   "outputs": [],
   "source": [
    "#| export\n",
    "\n",
    "class StringTemplate(BaseModel):\n",
    "    \"\"\"String Template Model. \n",
    "    \n",
    "    Define the class with a template and fields, and it can parse a string that matches the template into the attributes of the model\n",
    "    or accept the attributes and create the string. \n",
    "    \n",
    "    Useful for path operations and partitions. \n",
    "    \"\"\"\n",
    "    string: Optional[str]=None\n",
    "    template: str\n",
    "    \n",
    "    @classmethod\n",
    "    def parse_string(cls,string):\n",
    "        string_format = cls.__fields__['template'].default\n",
    "        values = string_to_dict(string,string_format)\n",
    "        return cls(**values)\n",
    "    \n",
    "    @validator('template',always=True)\n",
    "    def validate_template(cls,v):\n",
    "        template_fields = get_formatters_from_string(v)\n",
    "        fields = [x for x in cls.__fields__.keys() if x not in ('template','string')]\n",
    "        assert template_fields == fields,(template_fields,fields)\n",
    "        return v\n",
    "    \n",
    "    @root_validator(skip_on_failure=True)\n",
    "    def format_template(cls,values):\n",
    "\n",
    "        values['string'] = values['template'].format(**values)\n",
    "\n",
    "        return values\n",
    "    \n",
    "    def __init__(\n",
    "        self,\n",
    "        string=None, # positional only\n",
    "        /,\n",
    "        **kwargs\n",
    "    ):\n",
    "        if string: \n",
    "            obj = self.parse_string(string)\n",
    "            super().__init__(**obj.dict())\n",
    "        else:\n",
    "            super().__init__(**kwargs)"
   ]
  },
  {
   "cell_type": "code",
   "execution_count": null,
   "id": "c4f2df80-7670-4de5-bfeb-d4d11b618b48",
   "metadata": {},
   "outputs": [],
   "source": [
    "class IntroduceMe(StringTemplate):\n",
    "    template:str = \"Hi! My name is {first} {last}\"\n",
    "    first: str\n",
    "    last: str"
   ]
  },
  {
   "cell_type": "code",
   "execution_count": null,
   "id": "9b41da35-6692-40cb-9437-24617bac7e5e",
   "metadata": {},
   "outputs": [
    {
     "data": {
      "application/json": {
       "first": "Charlie",
       "last": "Schlinkert",
       "string": "Hi! My name is Charlie Schlinkert",
       "template": "Hi! My name is {first} {last}"
      },
      "text/html": [
       "<table border=\"1\"><tr><th>string</th><td>Hi! My name is Charlie Schlinkert</td></tr><tr><th>template</th><td>Hi! My name is {first} {last}</td></tr><tr><th>first</th><td>Charlie</td></tr><tr><th>last</th><td>Schlinkert</td></tr></table>"
      ],
      "text/plain": [
       "IntroduceMe(string='Hi! My name is Charlie Schlinkert', template='Hi! My name is {first} {last}', first='Charlie', last='Schlinkert')"
      ]
     },
     "metadata": {},
     "output_type": "display_data"
    }
   ],
   "source": [
    "me = IntroduceMe(first='Charlie',last='Schlinkert')\n",
    "assert me.string == 'Hi! My name is Charlie Schlinkert'\n",
    "display(me)"
   ]
  },
  {
   "cell_type": "code",
   "execution_count": null,
   "id": "dd3086a9-9a50-4ff7-b3a7-81088b07a9cc",
   "metadata": {},
   "outputs": [
    {
     "data": {
      "application/json": {
       "first": "Humphry",
       "last": "Bogart",
       "string": "Hi! My name is Humphry Bogart",
       "template": "Hi! My name is {first} {last}"
      },
      "text/html": [
       "<table border=\"1\"><tr><th>string</th><td>Hi! My name is Humphry Bogart</td></tr><tr><th>template</th><td>Hi! My name is {first} {last}</td></tr><tr><th>first</th><td>Humphry</td></tr><tr><th>last</th><td>Bogart</td></tr></table>"
      ],
      "text/plain": [
       "IntroduceMe(string='Hi! My name is Humphry Bogart', template='Hi! My name is {first} {last}', first='Humphry', last='Bogart')"
      ]
     },
     "execution_count": null,
     "metadata": {},
     "output_type": "execute_result"
    }
   ],
   "source": [
    "hb = IntroduceMe.parse_string(\"Hi! My name is Humphry Bogart\")\n",
    "assert hb.first == 'Humphry'\n",
    "assert hb.last == 'Bogart'\n",
    "hb"
   ]
  },
  {
   "cell_type": "markdown",
   "id": "f928d439-37fc-4981-b3fb-ace56a0faf03",
   "metadata": {},
   "source": [
    "Templating is pretty strict. Error message could be better here. "
   ]
  },
  {
   "cell_type": "code",
   "execution_count": null,
   "id": "e35b8ddf-a99b-4af2-ab84-6111c4d7d7ec",
   "metadata": {},
   "outputs": [
    {
     "name": "stdout",
     "output_type": "stream",
     "text": [
      "'NoneType' object has no attribute 'groups'\n"
     ]
    }
   ],
   "source": [
    "try:\n",
    "    IntroduceMe(\"The name's Bond. James Bond\")\n",
    "except AttributeError as e:\n",
    "    print(e)"
   ]
  },
  {
   "cell_type": "markdown",
   "id": "07864f42-dfb1-4385-bee2-3046d7454ab8",
   "metadata": {},
   "source": [
    "### Example"
   ]
  },
  {
   "cell_type": "code",
   "execution_count": null,
   "id": "a8ae1967-21e6-454e-8414-1be57ce4b5bb",
   "metadata": {},
   "outputs": [],
   "source": [
    "import pandas as pd"
   ]
  },
  {
   "cell_type": "code",
   "execution_count": null,
   "id": "9bc8ea14-1d0e-4c5b-8914-31845bba10ce",
   "metadata": {},
   "outputs": [
    {
     "data": {
      "text/html": [
       "<div>\n",
       "<style scoped>\n",
       "    .dataframe tbody tr th:only-of-type {\n",
       "        vertical-align: middle;\n",
       "    }\n",
       "\n",
       "    .dataframe tbody tr th {\n",
       "        vertical-align: top;\n",
       "    }\n",
       "\n",
       "    .dataframe thead th {\n",
       "        text-align: right;\n",
       "    }\n",
       "</style>\n",
       "<table border=\"1\" class=\"dataframe\">\n",
       "  <thead>\n",
       "    <tr style=\"text-align: right;\">\n",
       "      <th></th>\n",
       "      <th>American League Pitcher</th>\n",
       "      <th>Throws</th>\n",
       "      <th>Wins–losses</th>\n",
       "      <th>Unnamed: 3</th>\n",
       "      <th>National League Pitcher</th>\n",
       "      <th>Throws.1</th>\n",
       "      <th>Wins–losses.1</th>\n",
       "    </tr>\n",
       "  </thead>\n",
       "  <tbody>\n",
       "    <tr>\n",
       "      <th>0</th>\n",
       "      <td>Walter Johnson</td>\n",
       "      <td>R</td>\n",
       "      <td>417–279[2]</td>\n",
       "      <td>NaN</td>\n",
       "      <td>Christy Mathewson</td>\n",
       "      <td>R</td>\n",
       "      <td>373–188[3]</td>\n",
       "    </tr>\n",
       "    <tr>\n",
       "      <th>1</th>\n",
       "      <td>Roger Clemens</td>\n",
       "      <td>R</td>\n",
       "      <td>316–166[4]</td>\n",
       "      <td>NaN</td>\n",
       "      <td>Grover Cleveland Alexander</td>\n",
       "      <td>R</td>\n",
       "      <td>373–208[5]</td>\n",
       "    </tr>\n",
       "    <tr>\n",
       "      <th>2</th>\n",
       "      <td>Eddie Plank</td>\n",
       "      <td>L</td>\n",
       "      <td>305–183[6]</td>\n",
       "      <td>NaN</td>\n",
       "      <td>Pud Galvin</td>\n",
       "      <td>R</td>\n",
       "      <td>349–295[7]</td>\n",
       "    </tr>\n",
       "    <tr>\n",
       "      <th>3</th>\n",
       "      <td>Lefty Grove</td>\n",
       "      <td>L</td>\n",
       "      <td>300–141[8]</td>\n",
       "      <td>NaN</td>\n",
       "      <td>Warren Spahn</td>\n",
       "      <td>L</td>\n",
       "      <td>363–245[9]</td>\n",
       "    </tr>\n",
       "    <tr>\n",
       "      <th>4</th>\n",
       "      <td>Early Wynn</td>\n",
       "      <td>R</td>\n",
       "      <td>300–244[10]</td>\n",
       "      <td>NaN</td>\n",
       "      <td>Kid Nichols</td>\n",
       "      <td>R</td>\n",
       "      <td>361–208[11]</td>\n",
       "    </tr>\n",
       "    <tr>\n",
       "      <th>5</th>\n",
       "      <td>Red Ruffing</td>\n",
       "      <td>R</td>\n",
       "      <td>273–225[12]</td>\n",
       "      <td>NaN</td>\n",
       "      <td>Greg Maddux</td>\n",
       "      <td>R</td>\n",
       "      <td>355–227[13]</td>\n",
       "    </tr>\n",
       "    <tr>\n",
       "      <th>6</th>\n",
       "      <td>Mike Mussina</td>\n",
       "      <td>R</td>\n",
       "      <td>270–153[14]</td>\n",
       "      <td>NaN</td>\n",
       "      <td>Tim Keefe</td>\n",
       "      <td>R</td>\n",
       "      <td>342–225[15]</td>\n",
       "    </tr>\n",
       "    <tr>\n",
       "      <th>7</th>\n",
       "      <td>Jim Palmer</td>\n",
       "      <td>R</td>\n",
       "      <td>268–152[16]</td>\n",
       "      <td>NaN</td>\n",
       "      <td>John Clarkson</td>\n",
       "      <td>R</td>\n",
       "      <td>328–178[17]</td>\n",
       "    </tr>\n",
       "    <tr>\n",
       "      <th>8</th>\n",
       "      <td>Bob Feller</td>\n",
       "      <td>R</td>\n",
       "      <td>266–162[18]</td>\n",
       "      <td>NaN</td>\n",
       "      <td>Steve Carlton</td>\n",
       "      <td>L</td>\n",
       "      <td>319–226[19]</td>\n",
       "    </tr>\n",
       "    <tr>\n",
       "      <th>9</th>\n",
       "      <td>Ted Lyons</td>\n",
       "      <td>R</td>\n",
       "      <td>260–230[20]</td>\n",
       "      <td>NaN</td>\n",
       "      <td>Mickey Welch</td>\n",
       "      <td>R</td>\n",
       "      <td>307–210[21]</td>\n",
       "    </tr>\n",
       "  </tbody>\n",
       "</table>\n",
       "</div>"
      ],
      "text/plain": [
       "  American League Pitcher Throws  Wins–losses  Unnamed: 3  \\\n",
       "0          Walter Johnson      R   417–279[2]         NaN   \n",
       "1           Roger Clemens      R   316–166[4]         NaN   \n",
       "2             Eddie Plank      L   305–183[6]         NaN   \n",
       "3             Lefty Grove      L   300–141[8]         NaN   \n",
       "4              Early Wynn      R  300–244[10]         NaN   \n",
       "5             Red Ruffing      R  273–225[12]         NaN   \n",
       "6            Mike Mussina      R  270–153[14]         NaN   \n",
       "7              Jim Palmer      R  268–152[16]         NaN   \n",
       "8              Bob Feller      R  266–162[18]         NaN   \n",
       "9               Ted Lyons      R  260–230[20]         NaN   \n",
       "\n",
       "      National League Pitcher Throws.1 Wins–losses.1  \n",
       "0           Christy Mathewson        R    373–188[3]  \n",
       "1  Grover Cleveland Alexander        R    373–208[5]  \n",
       "2                  Pud Galvin        R    349–295[7]  \n",
       "3                Warren Spahn        L    363–245[9]  \n",
       "4                 Kid Nichols        R   361–208[11]  \n",
       "5                 Greg Maddux        R   355–227[13]  \n",
       "6                   Tim Keefe        R   342–225[15]  \n",
       "7               John Clarkson        R   328–178[17]  \n",
       "8               Steve Carlton        L   319–226[19]  \n",
       "9                Mickey Welch        R   307–210[21]  "
      ]
     },
     "execution_count": null,
     "metadata": {},
     "output_type": "execute_result"
    }
   ],
   "source": [
    "\n",
    "dfs = pd.read_html(\"https://en.wikipedia.org/wiki/List_of_Major_League_Baseball_wins_records\")\n",
    "df = dfs[0]\n",
    "df"
   ]
  },
  {
   "cell_type": "code",
   "execution_count": null,
   "id": "b1bd2f91-8c94-422d-bf37-9977de5007f8",
   "metadata": {},
   "outputs": [
    {
     "name": "stdout",
     "output_type": "stream",
     "text": [
      "417–279[2]\n"
     ]
    },
    {
     "data": {
      "application/json": {
       "footnote": "2",
       "losses": 279,
       "string": "417–279\\[2\\]",
       "template": "{wins}–{losses}\\[{footnote}\\]",
       "wins": 417
      },
      "text/html": [
       "<table border=\"1\"><tr><th>string</th><td>417–279\\[2\\]</td></tr><tr><th>template</th><td>{wins}–{losses}\\[{footnote}\\]</td></tr><tr><th>wins</th><td>417</td></tr><tr><th>losses</th><td>279</td></tr><tr><th>footnote</th><td>2</td></tr></table>"
      ],
      "text/plain": [
       "WinLoss(string='417–279\\\\[2\\\\]', template='{wins}–{losses}\\\\[{footnote}\\\\]', wins=417, losses=279, footnote='2')"
      ]
     },
     "execution_count": null,
     "metadata": {},
     "output_type": "execute_result"
    }
   ],
   "source": [
    "class WinLoss(StringTemplate):\n",
    "    template = \"{wins}–{losses}\\[{footnote}\\]\"\n",
    "    wins: int \n",
    "    losses: int\n",
    "    footnote: str \n",
    "\n",
    "s = df['Wins–losses'][0]\n",
    "print(s)\n",
    "\n",
    "WinLoss.parse_string(s)"
   ]
  },
  {
   "cell_type": "code",
   "execution_count": null,
   "id": "7ca42017-a5b2-4dc0-9aa8-8d5450c208a0",
   "metadata": {},
   "outputs": [
    {
     "data": {
      "text/html": [
       "<div>\n",
       "<style scoped>\n",
       "    .dataframe tbody tr th:only-of-type {\n",
       "        vertical-align: middle;\n",
       "    }\n",
       "\n",
       "    .dataframe tbody tr th {\n",
       "        vertical-align: top;\n",
       "    }\n",
       "\n",
       "    .dataframe thead th {\n",
       "        text-align: right;\n",
       "    }\n",
       "</style>\n",
       "<table border=\"1\" class=\"dataframe\">\n",
       "  <thead>\n",
       "    <tr style=\"text-align: right;\">\n",
       "      <th></th>\n",
       "      <th>wins</th>\n",
       "      <th>losses</th>\n",
       "    </tr>\n",
       "    <tr>\n",
       "      <th>American League Pitcher</th>\n",
       "      <th></th>\n",
       "      <th></th>\n",
       "    </tr>\n",
       "  </thead>\n",
       "  <tbody>\n",
       "    <tr>\n",
       "      <th>Walter Johnson</th>\n",
       "      <td>417</td>\n",
       "      <td>279</td>\n",
       "    </tr>\n",
       "    <tr>\n",
       "      <th>Roger Clemens</th>\n",
       "      <td>316</td>\n",
       "      <td>166</td>\n",
       "    </tr>\n",
       "    <tr>\n",
       "      <th>Eddie Plank</th>\n",
       "      <td>305</td>\n",
       "      <td>183</td>\n",
       "    </tr>\n",
       "    <tr>\n",
       "      <th>Lefty Grove</th>\n",
       "      <td>300</td>\n",
       "      <td>141</td>\n",
       "    </tr>\n",
       "    <tr>\n",
       "      <th>Early Wynn</th>\n",
       "      <td>300</td>\n",
       "      <td>244</td>\n",
       "    </tr>\n",
       "  </tbody>\n",
       "</table>\n",
       "</div>"
      ],
      "text/plain": [
       "                         wins  losses\n",
       "American League Pitcher              \n",
       "Walter Johnson            417     279\n",
       "Roger Clemens             316     166\n",
       "Eddie Plank               305     183\n",
       "Lefty Grove               300     141\n",
       "Early Wynn                300     244"
      ]
     },
     "execution_count": null,
     "metadata": {},
     "output_type": "execute_result"
    }
   ],
   "source": [
    "df.set_index('American League Pitcher')['Wins–losses'].apply(\n",
    "    lambda x: WinLoss(x).dict(include={'wins','losses'})\n",
    ").apply(pd.Series).head()"
   ]
  },
  {
   "cell_type": "code",
   "execution_count": null,
   "id": "577d1ce6-824c-4e2a-aeb2-0a96527bc829",
   "metadata": {},
   "outputs": [],
   "source": [
    "#| hide\n",
    "import nbdev; nbdev.nbdev_export()"
   ]
  }
 ],
 "metadata": {
  "kernelspec": {
   "display_name": "python3",
   "language": "python",
   "name": "python3"
  }
 },
 "nbformat": 4,
 "nbformat_minor": 5
}
