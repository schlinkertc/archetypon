{
 "cells": [
  {
   "cell_type": "raw",
   "metadata": {},
   "source": [
    "---\n",
    "output-file: string_templating.html\n",
    "title: String Templating\n",
    "\n",
    "---\n",
    "\n"
   ]
  },
  {
   "cell_type": "code",
   "execution_count": null,
   "id": "8e7e9944-da5e-44fa-b47c-4bd6591ab334",
   "metadata": {},
   "outputs": [],
   "source": [
    "#| default_exp string_templating"
   ]
  },
  {
   "cell_type": "code",
   "execution_count": null,
   "id": "ec12aede-d643-4f26-a7f4-06ec7370ff04",
   "metadata": {},
   "outputs": [],
   "source": [
    "#| exporti \n",
    "\n",
    "from archetypon.base_model import BaseModel\n",
    "from pydantic import root_validator,validator\n",
    "from typing import *\n",
    "import string\n",
    "import re"
   ]
  },
  {
   "cell_type": "code",
   "execution_count": null,
   "id": "af555c34-5122-4491-84c2-bb294494699f",
   "metadata": {},
   "outputs": [],
   "source": [
    "#| export\n",
    "\n",
    "def get_formatters_from_string(input_string:str)->List[str]:\n",
    "    if input_string:\n",
    "        keys = [tup[1] for tup in string.Formatter().parse(input_string) if tup[1] is not None]\n",
    "        if len(keys)>0:\n",
    "            return keys\n",
    "        else:\n",
    "            return {}"
   ]
  },
  {
   "cell_type": "code",
   "execution_count": null,
   "id": "e51753aa-8f72-4589-b0a0-e6e92db1468e",
   "metadata": {},
   "outputs": [],
   "source": [
    "#| export \n",
    "\n",
    "def string_to_dict(string, pattern):\n",
    "    regex = re.sub(r'{(.+?)}', r'(?P<_\\1>.+)', pattern)\n",
    "    values = list(re.search(regex, string).groups())\n",
    "    keys = re.findall(r'{(.+?)}', pattern)\n",
    "    _dict = dict(zip(keys, values))\n",
    "    return _dict"
   ]
  },
  {
   "cell_type": "code",
   "execution_count": null,
   "id": "abc30703-2a52-4fa7-8811-7a34b73ea148",
   "metadata": {},
   "outputs": [],
   "source": [
    "my_string = 'I live in {city}, {state}, {country}.'\n",
    "assert get_formatters_from_string(my_string) == ['city','state','country']"
   ]
  },
  {
   "cell_type": "code",
   "execution_count": null,
   "id": "0fa7e63c-ac14-4e51-ad7b-c26d68189eaf",
   "metadata": {},
   "outputs": [],
   "source": [
    "#| export\n",
    "\n",
    "class StringTemplate(BaseModel):\n",
    "    string: Optional[str]=None\n",
    "    template: str\n",
    "    \n",
    "    @classmethod\n",
    "    def parse_string(cls,string):\n",
    "        string_format = cls.__fields__['template'].default\n",
    "        values = string_to_dict(string,string_format)\n",
    "        return cls(**values)\n",
    "    \n",
    "    @validator('template',always=True)\n",
    "    def validate_template(cls,v):\n",
    "        template_fields = get_formatters_from_string(v)\n",
    "        fields = [x for x in cls.__fields__.keys() if x not in ('template','string')]\n",
    "        assert template_fields == fields,(template_fields,fields)\n",
    "        return v\n",
    "    \n",
    "    @root_validator(skip_on_failure=True)\n",
    "    def format_template(cls,values):\n",
    "\n",
    "        values['string'] = values['template'].format(**values)\n",
    "\n",
    "        return values\n",
    "    \n",
    "    def __init__(\n",
    "        self,\n",
    "        string=None, # positional only\n",
    "        /,\n",
    "        **kwargs\n",
    "    ):\n",
    "        if string: \n",
    "            obj = self.parse_string(string)\n",
    "            super().__init__(**obj.dict())\n",
    "        else:\n",
    "            super().__init__(**kwargs)"
   ]
  },
  {
   "cell_type": "code",
   "execution_count": null,
   "id": "c4f2df80-7670-4de5-bfeb-d4d11b618b48",
   "metadata": {},
   "outputs": [],
   "source": [
    "class IntroduceMe(StringTemplate):\n",
    "    template:str = \"Hi! My name is {first} {last}\"\n",
    "    first: str\n",
    "    last: str"
   ]
  },
  {
   "cell_type": "code",
   "execution_count": null,
   "id": "9b41da35-6692-40cb-9437-24617bac7e5e",
   "metadata": {},
   "outputs": [
    {
     "data": {
      "application/json": {
       "first": "Charlie",
       "last": "Schlinkert",
       "string": "Hi! My name is Charlie Schlinkert",
       "template": "Hi! My name is {first} {last}"
      },
      "text/html": [
       "<table border=\"1\"><tr><th>string</th><td>Hi! My name is Charlie Schlinkert</td></tr><tr><th>template</th><td>Hi! My name is {first} {last}</td></tr><tr><th>first</th><td>Charlie</td></tr><tr><th>last</th><td>Schlinkert</td></tr></table>"
      ],
      "text/plain": [
       "IntroduceMe(string='Hi! My name is Charlie Schlinkert', template='Hi! My name is {first} {last}', first='Charlie', last='Schlinkert')"
      ]
     },
     "execution_count": null,
     "metadata": {},
     "output_type": "execute_result"
    }
   ],
   "source": [
    "IntroduceMe(first='Charlie',last='Schlinkert')"
   ]
  },
  {
   "cell_type": "code",
   "execution_count": null,
   "id": "dd3086a9-9a50-4ff7-b3a7-81088b07a9cc",
   "metadata": {},
   "outputs": [
    {
     "data": {
      "application/json": {
       "first": "Humphry",
       "last": "Bogart",
       "string": "Hi! My name is Humphry Bogart",
       "template": "Hi! My name is {first} {last}"
      },
      "text/html": [
       "<table border=\"1\"><tr><th>string</th><td>Hi! My name is Humphry Bogart</td></tr><tr><th>template</th><td>Hi! My name is {first} {last}</td></tr><tr><th>first</th><td>Humphry</td></tr><tr><th>last</th><td>Bogart</td></tr></table>"
      ],
      "text/plain": [
       "IntroduceMe(string='Hi! My name is Humphry Bogart', template='Hi! My name is {first} {last}', first='Humphry', last='Bogart')"
      ]
     },
     "execution_count": null,
     "metadata": {},
     "output_type": "execute_result"
    }
   ],
   "source": [
    "IntroduceMe.parse_string(\"Hi! My name is Humphry Bogart\")"
   ]
  },
  {
   "cell_type": "code",
   "execution_count": null,
   "id": "f1902232-093a-4529-859f-ca6414dd2b40",
   "metadata": {},
   "outputs": [
    {
     "data": {
      "application/json": {
       "first": "James",
       "last": "Bond",
       "string": "Hi! My name is James Bond",
       "template": "Hi! My name is {first} {last}"
      },
      "text/html": [
       "<table border=\"1\"><tr><th>string</th><td>Hi! My name is James Bond</td></tr><tr><th>template</th><td>Hi! My name is {first} {last}</td></tr><tr><th>first</th><td>James</td></tr><tr><th>last</th><td>Bond</td></tr></table>"
      ],
      "text/plain": [
       "IntroduceMe(string='Hi! My name is James Bond', template='Hi! My name is {first} {last}', first='James', last='Bond')"
      ]
     },
     "execution_count": null,
     "metadata": {},
     "output_type": "execute_result"
    }
   ],
   "source": [
    "IntroduceMe(\"Hi! My name is James Bond\")"
   ]
  },
  {
   "cell_type": "code",
   "execution_count": null,
   "id": "e35b8ddf-a99b-4af2-ab84-6111c4d7d7ec",
   "metadata": {},
   "outputs": [],
   "source": []
  }
 ],
 "metadata": {
  "kernelspec": {
   "display_name": "python3",
   "language": "python",
   "name": "python3"
  }
 },
 "nbformat": 4,
 "nbformat_minor": 5
}
