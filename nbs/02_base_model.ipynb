{
 "cells": [
  {
   "cell_type": "code",
   "execution_count": null,
   "metadata": {},
   "outputs": [],
   "source": [
    "#| default_exp base_model"
   ]
  },
  {
   "cell_type": "code",
   "execution_count": null,
   "metadata": {},
   "outputs": [],
   "source": [
    "#| exporti \n",
    "from typing import *\n",
    "from pydantic import BaseModel as PydanticBaseModel\n",
    "from pydantic.generics import GenericModel as PydanticGenericModel\n",
    "import json\n",
    "from json2html import json2html\n",
    "from IPython.display import HTML,JSON\n",
    "import inspect\n",
    "import yaml\n",
    "from archetypon.delegates import delegates\n",
    "import logging\n",
    "from pandas import DataFrame as PandasDataFrame\n",
    "import orjson\n",
    "import ujson\n",
    "from pandas.io.json import dumps as pandas_dumps\n",
    "from pandas.io.json import loads as pandas_loads"
   ]
  },
  {
   "cell_type": "markdown",
   "metadata": {},
   "source": [
    "# Base Model\n",
    "> Extending Pydantic's BaseModel with Jupyter-specific utilities"
   ]
  },
  {
   "cell_type": "markdown",
   "metadata": {},
   "source": [
    "## Custom Pandas DataFrame\n",
    "> Add classmethods to Pandas' DataFrame object to allow for Pydantic validation"
   ]
  },
  {
   "cell_type": "code",
   "execution_count": null,
   "metadata": {},
   "outputs": [],
   "source": [
    "#|export \n",
    "\n",
    "class DataFrame(PandasDataFrame):\n",
    "    \"\"\"Subclassed from Pandas DataFrame. Includes classmethods used in Pydantic Validation\"\"\"\n",
    "    \n",
    "    @classmethod\n",
    "    def __get_validators__(cls):\n",
    "        yield cls.validate_dataframe\n",
    "    \n",
    "    @classmethod\n",
    "    def __modify_schema__(cls, field_schema: Dict[str, Any]) -> None:\n",
    "        pass\n",
    "    \n",
    "    @classmethod\n",
    "    def validate_dataframe(cls,v):\n",
    "\n",
    "        return PandasDataFrame(v)"
   ]
  },
  {
   "cell_type": "markdown",
   "metadata": {},
   "source": [
    "## DBT Schema\n",
    "> Support functions to convert Pydantic Model into a DBT Schema"
   ]
  },
  {
   "cell_type": "code",
   "execution_count": null,
   "metadata": {},
   "outputs": [],
   "source": [
    "\n",
    "#|exporti\n",
    "\n",
    "def dict_to_yaml(data: dict) -> str:\n",
    "    # convert the dictionary to a yaml string\n",
    "    yaml_str = yaml.dump(data,sort_keys = False)\n",
    "\n",
    "    return yaml_str"
   ]
  },
  {
   "cell_type": "code",
   "execution_count": null,
   "metadata": {},
   "outputs": [],
   "source": [
    "\n",
    "#|exporti\n",
    "\n",
    "def pydantic_to_dbt(model: Type[PydanticBaseModel]) -> dict:\n",
    "    # convert the model to a dictionary\n",
    "    model_dict = model.schema()\n",
    "\n",
    "    # create a dictionary for the dbt model\n",
    "    dbt_model = {\n",
    "        \"version\": 2,\n",
    "        \"name\": model.__name__.lower(),  # use the model's class name as the table name\n",
    "        \"description\":model_dict.get('description'),\n",
    "        \"columns\": []\n",
    "    }\n",
    "    dbt_model = {k:v for k,v in dbt_model.items() if v or k=='columns'}\n",
    "\n",
    "    # add the columns from the pydantic model to the dbt model\n",
    "    for field_name, field in model_dict[\"properties\"].items():\n",
    "\n",
    "        column = {\n",
    "            \"name\": field_name,\n",
    "            \"description\":field.get('description'),\n",
    "            \"type\": field[\"type\"],\n",
    "        }\n",
    "        dbt_model[\"columns\"].append({k:v for k,v in column.items() if v})\n",
    "    return dbt_model\n"
   ]
  },
  {
   "cell_type": "markdown",
   "metadata": {},
   "source": [
    "## Custom JSON Encoders\n",
    "> Custom JSON encoders for DataFrames and for display purposes"
   ]
  },
  {
   "cell_type": "code",
   "execution_count": null,
   "metadata": {},
   "outputs": [],
   "source": [
    "#|export\n",
    "\n",
    "class DataFrameEncoder(json.JSONEncoder):\n",
    "    def default(self, z):\n",
    "        if isinstance(z, PandasDataFrame):\n",
    "            return pandas_loads(pandas_dumps(z))\n",
    "        else:\n",
    "            return super().default(z)"
   ]
  },
  {
   "cell_type": "code",
   "execution_count": null,
   "metadata": {},
   "outputs": [],
   "source": [
    "#|export\n",
    "\n",
    "class DataFrameDisplayEncoder(json.JSONEncoder):\n",
    "    def default(self, z):\n",
    "        if isinstance(z,PandasDataFrame):\n",
    "            return pandas_loads(pandas_dumps(z.head()))\n",
    "        else:\n",
    "            return super().default(z)"
   ]
  },
  {
   "cell_type": "code",
   "execution_count": null,
   "metadata": {},
   "outputs": [],
   "source": [
    "#|export \n",
    "\n",
    "def custom_dumps(v,**kwargs):\n",
    "    kwargs['cls']=DataFrameEncoder\n",
    "    return json.dumps(v, **kwargs)"
   ]
  },
  {
   "cell_type": "code",
   "execution_count": null,
   "metadata": {},
   "outputs": [],
   "source": [
    "#|exporti\n",
    "\n",
    "class Base():\n",
    "\n",
    "    @delegates(PydanticBaseModel.json)\n",
    "    def display_json(\n",
    "        self,\n",
    "        json_loads_kwargs: dict = {}, # passed to json.loads()\n",
    "        display_kwargs: dict = {}, # passed to IPython.display.JSON()\n",
    "        **kwargs\n",
    "    ): \n",
    "        \"\"\"Helper function to display json in jupyter lab using kwargs passed to pydantic's .json() method\"\"\"\n",
    "        return JSON(\n",
    "            json.loads(self.json(**kwargs),**json_loads_kwargs),\n",
    "            **display_kwargs\n",
    "        )\n",
    "    \n",
    "    @delegates(PydanticBaseModel.json)\n",
    "    def display_html(self,**kwargs):\n",
    "        return HTML(\n",
    "            json2html.convert(self.json(**kwargs))\n",
    "        )\n",
    "    \n",
    "    @classmethod\n",
    "    @delegates(PydanticBaseModel.schema_json)\n",
    "    def display_schema_json(cls,**kwargs):\n",
    "        \"\"\"Helper function to display schema json in jupyter lab using kwargs passed to pydantic's .json() method\"\"\"\n",
    "        return JSON(\n",
    "            json.loads(cls.schema_json(**kwargs))\n",
    "        )\n",
    "\n",
    "    @classmethod\n",
    "    @delegates(PydanticBaseModel.schema_json)\n",
    "    def schema_html(cls,**kwargs):\n",
    "        return HTML(\n",
    "            json2html.convert(cls.schema_json(**kwargs))\n",
    "        )\n",
    "\n",
    "    @classmethod\n",
    "    @delegates(PydanticBaseModel.schema)\n",
    "    def schema_yml(cls,**kwargs):\n",
    "        dbt = pydantic_to_dbt(cls)\n",
    "\n",
    "        return dict_to_yaml(dbt)\n",
    "\n",
    "    def _repr_html_(self):\n",
    "        try:\n",
    "            return self.display_html(**self.Display.html).data\n",
    "        except Exception as e:\n",
    "            logging.warning(e)\n",
    "            pass\n",
    "\n",
    "    def _repr_json_(self):\n",
    "        try:\n",
    "            return self.display_json(**self.Display.json).data\n",
    "        except Exception as e:\n",
    "            logging.warning(e)\n",
    "            pass\n",
    "\n",
    "    class Display:\n",
    "        json = {}\n",
    "        html = {}\n",
    "    \n",
    "    class Config:\n",
    "        json_encoders = {\n",
    "            PandasDataFrame: lambda df: json.loads(df.to_json(date_format='iso'))\n",
    "        }\n",
    "        json_dumps = custom_dumps\n"
   ]
  },
  {
   "cell_type": "code",
   "execution_count": null,
   "metadata": {},
   "outputs": [],
   "source": [
    "#|export\n",
    "\n",
    "class BaseModel(PydanticBaseModel,Base):\n",
    "    \"\"\"\n",
    "    Custom implementation of Pydantic's Base Model.\n",
    "\n",
    "    Includes `_repr_json_` and `_repr_html_` methods for nice displays in Jupyter Lab and Jupyter Notebook, respectively.\n",
    "\n",
    "    \"\"\"    \n",
    "    class Config(Base.Config):\n",
    "        pass"
   ]
  },
  {
   "cell_type": "code",
   "execution_count": null,
   "metadata": {},
   "outputs": [],
   "source": [
    "import datetime as dt\n",
    "from pydantic import validator\n",
    "from dateutil.relativedelta import relativedelta\n",
    "from pydantic import ValidationError"
   ]
  },
  {
   "cell_type": "code",
   "execution_count": null,
   "metadata": {},
   "outputs": [],
   "source": [
    "class Person(BaseModel):\n",
    "    name: str\n",
    "    dob: dt.date\n",
    "    age: Optional[int] \n",
    "    \n",
    "    @validator('age',always=True)\n",
    "    def _validate_age(cls,v,values):\n",
    "        difference_in_years = relativedelta(\n",
    "            dt.date.today(), \n",
    "            values['dob']\n",
    "        ).years\n",
    "        if v and v!=difference_in_years:\n",
    "            raise ValueError(\"You're lying about your age!\")\n",
    "        return difference_in_years"
   ]
  },
  {
   "cell_type": "code",
   "execution_count": null,
   "metadata": {},
   "outputs": [
    {
     "data": {
      "text/plain": [
       "'{\"name\": \"Humble Chuck\", \"dob\": \"1994-06-11\", \"age\": 28}'"
      ]
     },
     "execution_count": null,
     "metadata": {},
     "output_type": "execute_result"
    }
   ],
   "source": [
    "me = Person(\n",
    "    name = 'Humble Chuck',\n",
    "    dob = '1994-06-11'\n",
    ")\n",
    "me.json()"
   ]
  },
  {
   "cell_type": "code",
   "execution_count": null,
   "metadata": {},
   "outputs": [
    {
     "name": "stdout",
     "output_type": "stream",
     "text": [
      "1 validation error for Person\n",
      "age\n",
      "  You're lying about your age! (type=value_error)\n"
     ]
    }
   ],
   "source": [
    "try:\n",
    "    me = Person(\n",
    "        name = 'Humble Chuck',\n",
    "        dob = '1994-06-11',\n",
    "        age = 27\n",
    "    )\n",
    "except ValidationError as e:\n",
    "    print(e)"
   ]
  },
  {
   "cell_type": "code",
   "execution_count": null,
   "metadata": {},
   "outputs": [],
   "source": [
    "#|export \n",
    "\n",
    "class GenericModel(PydanticGenericModel,Base):\n",
    "    \"\"\"\n",
    "    Custom implementation of Pydantic's Generic Model.\n",
    "\n",
    "    Includes `_repr_json_` and `_repr_html_` methods for nice displays in Jupyter Lab and Jupyter Notebook, respectively.\n",
    "\n",
    "    \"\"\"    \n",
    "\n",
    "    class Config(Base.Config):\n",
    "        pass"
   ]
  },
  {
   "cell_type": "code",
   "execution_count": null,
   "metadata": {},
   "outputs": [],
   "source": [
    "class ModelWithDataFrame(BaseModel):\n",
    "    df: DataFrame\n",
    "    "
   ]
  },
  {
   "cell_type": "code",
   "execution_count": null,
   "metadata": {},
   "outputs": [
    {
     "data": {
      "application/json": {
       "df": {
        "a": {
         "0": 1
        },
        "b": {
         "0": 2
        }
       }
      },
      "text/html": [
       "<table border=\"1\"><tr><th>df</th><td><table border=\"1\"><tr><th>a</th><td><table border=\"1\"><tr><th>0</th><td>1</td></tr></table></td></tr><tr><th>b</th><td><table border=\"1\"><tr><th>0</th><td>2</td></tr></table></td></tr></table></td></tr></table>"
      ],
      "text/plain": [
       "ModelWithDataFrame(df=   a  b\n",
       "0  1  2)"
      ]
     },
     "execution_count": null,
     "metadata": {},
     "output_type": "execute_result"
    }
   ],
   "source": [
    "data = {\n",
    "    'a':[1],\n",
    "    'b':[2]\n",
    "}\n",
    "dataframe = DataFrame(data) \n",
    "model = ModelWithDataFrame(df=dataframe)\n",
    "model"
   ]
  },
  {
   "cell_type": "code",
   "execution_count": null,
   "metadata": {},
   "outputs": [
    {
     "data": {
      "text/plain": [
       "{'df':    a  b\n",
       " 0  1  2}"
      ]
     },
     "execution_count": null,
     "metadata": {},
     "output_type": "execute_result"
    }
   ],
   "source": [
    "model.dict()"
   ]
  },
  {
   "cell_type": "code",
   "execution_count": null,
   "metadata": {},
   "outputs": [
    {
     "ename": "TypeError",
     "evalue": "Object of type 'DataFrame' is not JSON serializable",
     "output_type": "error",
     "traceback": [
      "\u001b[0;31m---------------------------------------------------------------------------\u001b[0m",
      "\u001b[0;31mTypeError\u001b[0m                                 Traceback (most recent call last)",
      "Cell \u001b[0;32mIn[80], line 1\u001b[0m\n\u001b[0;32m----> 1\u001b[0m \u001b[43mmodel\u001b[49m\u001b[38;5;241;43m.\u001b[39;49m\u001b[43mdisplay_json\u001b[49m\u001b[43m(\u001b[49m\u001b[43m)\u001b[49m\n",
      "Cell \u001b[0;32mIn[68], line 14\u001b[0m, in \u001b[0;36mBase.display_json\u001b[0;34m(self, json_loads_kwargs, display_kwargs, **kwargs)\u001b[0m\n\u001b[1;32m      5\u001b[0m \u001b[38;5;129m@delegates\u001b[39m(PydanticBaseModel\u001b[38;5;241m.\u001b[39mjson)\n\u001b[1;32m      6\u001b[0m \u001b[38;5;28;01mdef\u001b[39;00m \u001b[38;5;21mdisplay_json\u001b[39m(\n\u001b[1;32m      7\u001b[0m     \u001b[38;5;28mself\u001b[39m,\n\u001b[0;32m   (...)\u001b[0m\n\u001b[1;32m     10\u001b[0m     \u001b[38;5;241m*\u001b[39m\u001b[38;5;241m*\u001b[39mkwargs\n\u001b[1;32m     11\u001b[0m ): \n\u001b[1;32m     12\u001b[0m \u001b[38;5;250m    \u001b[39m\u001b[38;5;124;03m\"\"\"Helper function to display json in jupyter lab using kwargs passed to pydantic's .json() method\"\"\"\u001b[39;00m\n\u001b[1;32m     13\u001b[0m     \u001b[38;5;28;01mreturn\u001b[39;00m JSON(\n\u001b[0;32m---> 14\u001b[0m         json\u001b[38;5;241m.\u001b[39mloads(\u001b[38;5;28;43mself\u001b[39;49m\u001b[38;5;241;43m.\u001b[39;49m\u001b[43mjson\u001b[49m\u001b[43m(\u001b[49m\u001b[38;5;241;43m*\u001b[39;49m\u001b[38;5;241;43m*\u001b[39;49m\u001b[43mkwargs\u001b[49m\u001b[43m)\u001b[49m,\u001b[38;5;241m*\u001b[39m\u001b[38;5;241m*\u001b[39mjson_loads_kwargs),\n\u001b[1;32m     15\u001b[0m         \u001b[38;5;241m*\u001b[39m\u001b[38;5;241m*\u001b[39mdisplay_kwargs\n\u001b[1;32m     16\u001b[0m     )\n",
      "File \u001b[0;32m~/opt/anaconda3/envs/hc/lib/python3.9/site-packages/pydantic/main.py:505\u001b[0m, in \u001b[0;36mpydantic.main.BaseModel.json\u001b[0;34m()\u001b[0m\n",
      "Cell \u001b[0;32mIn[67], line 5\u001b[0m, in \u001b[0;36mcustom_dumps\u001b[0;34m(v, **kwargs)\u001b[0m\n\u001b[1;32m      3\u001b[0m \u001b[38;5;28;01mdef\u001b[39;00m \u001b[38;5;21mcustom_dumps\u001b[39m(v,\u001b[38;5;241m*\u001b[39m\u001b[38;5;241m*\u001b[39mkwargs):\n\u001b[1;32m      4\u001b[0m     kwargs[\u001b[38;5;124m'\u001b[39m\u001b[38;5;124mcls\u001b[39m\u001b[38;5;124m'\u001b[39m]\u001b[38;5;241m=\u001b[39mDataFrameEncoder\n\u001b[0;32m----> 5\u001b[0m     \u001b[38;5;28;01mreturn\u001b[39;00m \u001b[43mjson\u001b[49m\u001b[38;5;241;43m.\u001b[39;49m\u001b[43mdumps\u001b[49m\u001b[43m(\u001b[49m\u001b[43mv\u001b[49m\u001b[43m,\u001b[49m\u001b[43m \u001b[49m\u001b[38;5;241;43m*\u001b[39;49m\u001b[38;5;241;43m*\u001b[39;49m\u001b[43mkwargs\u001b[49m\u001b[43m)\u001b[49m\n",
      "File \u001b[0;32m~/opt/anaconda3/envs/hc/lib/python3.9/json/__init__.py:234\u001b[0m, in \u001b[0;36mdumps\u001b[0;34m(obj, skipkeys, ensure_ascii, check_circular, allow_nan, cls, indent, separators, default, sort_keys, **kw)\u001b[0m\n\u001b[1;32m    232\u001b[0m \u001b[38;5;28;01mif\u001b[39;00m \u001b[38;5;28mcls\u001b[39m \u001b[38;5;129;01mis\u001b[39;00m \u001b[38;5;28;01mNone\u001b[39;00m:\n\u001b[1;32m    233\u001b[0m     \u001b[38;5;28mcls\u001b[39m \u001b[38;5;241m=\u001b[39m JSONEncoder\n\u001b[0;32m--> 234\u001b[0m \u001b[38;5;28;01mreturn\u001b[39;00m \u001b[38;5;28;43mcls\u001b[39;49m\u001b[43m(\u001b[49m\n\u001b[1;32m    235\u001b[0m \u001b[43m    \u001b[49m\u001b[43mskipkeys\u001b[49m\u001b[38;5;241;43m=\u001b[39;49m\u001b[43mskipkeys\u001b[49m\u001b[43m,\u001b[49m\u001b[43m \u001b[49m\u001b[43mensure_ascii\u001b[49m\u001b[38;5;241;43m=\u001b[39;49m\u001b[43mensure_ascii\u001b[49m\u001b[43m,\u001b[49m\n\u001b[1;32m    236\u001b[0m \u001b[43m    \u001b[49m\u001b[43mcheck_circular\u001b[49m\u001b[38;5;241;43m=\u001b[39;49m\u001b[43mcheck_circular\u001b[49m\u001b[43m,\u001b[49m\u001b[43m \u001b[49m\u001b[43mallow_nan\u001b[49m\u001b[38;5;241;43m=\u001b[39;49m\u001b[43mallow_nan\u001b[49m\u001b[43m,\u001b[49m\u001b[43m \u001b[49m\u001b[43mindent\u001b[49m\u001b[38;5;241;43m=\u001b[39;49m\u001b[43mindent\u001b[49m\u001b[43m,\u001b[49m\n\u001b[1;32m    237\u001b[0m \u001b[43m    \u001b[49m\u001b[43mseparators\u001b[49m\u001b[38;5;241;43m=\u001b[39;49m\u001b[43mseparators\u001b[49m\u001b[43m,\u001b[49m\u001b[43m \u001b[49m\u001b[43mdefault\u001b[49m\u001b[38;5;241;43m=\u001b[39;49m\u001b[43mdefault\u001b[49m\u001b[43m,\u001b[49m\u001b[43m \u001b[49m\u001b[43msort_keys\u001b[49m\u001b[38;5;241;43m=\u001b[39;49m\u001b[43msort_keys\u001b[49m\u001b[43m,\u001b[49m\n\u001b[1;32m    238\u001b[0m \u001b[43m    \u001b[49m\u001b[38;5;241;43m*\u001b[39;49m\u001b[38;5;241;43m*\u001b[39;49m\u001b[43mkw\u001b[49m\u001b[43m)\u001b[49m\u001b[38;5;241;43m.\u001b[39;49m\u001b[43mencode\u001b[49m\u001b[43m(\u001b[49m\u001b[43mobj\u001b[49m\u001b[43m)\u001b[49m\n",
      "File \u001b[0;32m~/opt/anaconda3/envs/hc/lib/python3.9/json/encoder.py:199\u001b[0m, in \u001b[0;36mJSONEncoder.encode\u001b[0;34m(self, o)\u001b[0m\n\u001b[1;32m    195\u001b[0m         \u001b[38;5;28;01mreturn\u001b[39;00m encode_basestring(o)\n\u001b[1;32m    196\u001b[0m \u001b[38;5;66;03m# This doesn't pass the iterator directly to ''.join() because the\u001b[39;00m\n\u001b[1;32m    197\u001b[0m \u001b[38;5;66;03m# exceptions aren't as detailed.  The list call should be roughly\u001b[39;00m\n\u001b[1;32m    198\u001b[0m \u001b[38;5;66;03m# equivalent to the PySequence_Fast that ''.join() would do.\u001b[39;00m\n\u001b[0;32m--> 199\u001b[0m chunks \u001b[38;5;241m=\u001b[39m \u001b[38;5;28;43mself\u001b[39;49m\u001b[38;5;241;43m.\u001b[39;49m\u001b[43miterencode\u001b[49m\u001b[43m(\u001b[49m\u001b[43mo\u001b[49m\u001b[43m,\u001b[49m\u001b[43m \u001b[49m\u001b[43m_one_shot\u001b[49m\u001b[38;5;241;43m=\u001b[39;49m\u001b[38;5;28;43;01mTrue\u001b[39;49;00m\u001b[43m)\u001b[49m\n\u001b[1;32m    200\u001b[0m \u001b[38;5;28;01mif\u001b[39;00m \u001b[38;5;129;01mnot\u001b[39;00m \u001b[38;5;28misinstance\u001b[39m(chunks, (\u001b[38;5;28mlist\u001b[39m, \u001b[38;5;28mtuple\u001b[39m)):\n\u001b[1;32m    201\u001b[0m     chunks \u001b[38;5;241m=\u001b[39m \u001b[38;5;28mlist\u001b[39m(chunks)\n",
      "File \u001b[0;32m~/opt/anaconda3/envs/hc/lib/python3.9/json/encoder.py:257\u001b[0m, in \u001b[0;36mJSONEncoder.iterencode\u001b[0;34m(self, o, _one_shot)\u001b[0m\n\u001b[1;32m    252\u001b[0m \u001b[38;5;28;01melse\u001b[39;00m:\n\u001b[1;32m    253\u001b[0m     _iterencode \u001b[38;5;241m=\u001b[39m _make_iterencode(\n\u001b[1;32m    254\u001b[0m         markers, \u001b[38;5;28mself\u001b[39m\u001b[38;5;241m.\u001b[39mdefault, _encoder, \u001b[38;5;28mself\u001b[39m\u001b[38;5;241m.\u001b[39mindent, floatstr,\n\u001b[1;32m    255\u001b[0m         \u001b[38;5;28mself\u001b[39m\u001b[38;5;241m.\u001b[39mkey_separator, \u001b[38;5;28mself\u001b[39m\u001b[38;5;241m.\u001b[39mitem_separator, \u001b[38;5;28mself\u001b[39m\u001b[38;5;241m.\u001b[39msort_keys,\n\u001b[1;32m    256\u001b[0m         \u001b[38;5;28mself\u001b[39m\u001b[38;5;241m.\u001b[39mskipkeys, _one_shot)\n\u001b[0;32m--> 257\u001b[0m \u001b[38;5;28;01mreturn\u001b[39;00m \u001b[43m_iterencode\u001b[49m\u001b[43m(\u001b[49m\u001b[43mo\u001b[49m\u001b[43m,\u001b[49m\u001b[43m \u001b[49m\u001b[38;5;241;43m0\u001b[39;49m\u001b[43m)\u001b[49m\n",
      "File \u001b[0;32m~/opt/anaconda3/envs/hc/lib/python3.9/site-packages/pydantic/json.py:90\u001b[0m, in \u001b[0;36mpydantic.json.pydantic_encoder\u001b[0;34m()\u001b[0m\n",
      "\u001b[0;31mTypeError\u001b[0m: Object of type 'DataFrame' is not JSON serializable"
     ]
    }
   ],
   "source": [
    "model.display_json()"
   ]
  },
  {
   "cell_type": "code",
   "execution_count": null,
   "metadata": {},
   "outputs": [],
   "source": [
    "#| hide\n",
    "import nbdev; nbdev.nbdev_export()"
   ]
  },
  {
   "cell_type": "code",
   "execution_count": null,
   "metadata": {},
   "outputs": [],
   "source": []
  }
 ],
 "metadata": {
  "kernelspec": {
   "display_name": "Python 3 (ipykernel)",
   "language": "python",
   "name": "python3"
  }
 },
 "nbformat": 4,
 "nbformat_minor": 4
}
