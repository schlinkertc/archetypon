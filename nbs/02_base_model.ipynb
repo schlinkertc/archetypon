{
 "cells": [
  {
   "cell_type": "code",
   "execution_count": null,
   "metadata": {},
   "outputs": [],
   "source": [
    "#| default_exp base_model"
   ]
  },
  {
   "cell_type": "code",
   "execution_count": null,
   "metadata": {},
   "outputs": [],
   "source": [
    "#| exporti \n",
    "from typing import *\n",
    "from pydantic import BaseModel as PydanticBaseModel\n",
    "from pydantic.generics import GenericModel as PydanticGenericModel\n",
    "import json\n",
    "from json2html import json2html\n",
    "from IPython.display import HTML,JSON\n",
    "import inspect\n",
    "import yaml\n",
    "from archetypon.delegates import delegates"
   ]
  },
  {
   "cell_type": "markdown",
   "metadata": {},
   "source": [
    "# Base Model\n",
    "> Extending Pydantic's BaseModel with Jupyter-specific utilities"
   ]
  },
  {
   "cell_type": "code",
   "execution_count": null,
   "metadata": {},
   "outputs": [],
   "source": [
    "\n",
    "#|exporti\n",
    "\n",
    "def dict_to_yaml(data: dict) -> str:\n",
    "    # convert the dictionary to a yaml string\n",
    "    yaml_str = yaml.dump(data,sort_keys = False)\n",
    "\n",
    "    return yaml_str"
   ]
  },
  {
   "cell_type": "code",
   "execution_count": null,
   "metadata": {},
   "outputs": [],
   "source": [
    "\n",
    "#|exporti\n",
    "\n",
    "def pydantic_to_dbt(model: Type[PydanticBaseModel]) -> dict:\n",
    "    # convert the model to a dictionary\n",
    "    model_dict = model.schema()\n",
    "\n",
    "    # create a dictionary for the dbt model\n",
    "    dbt_model = {\n",
    "        \"version\": 2,\n",
    "        \"name\": model.__name__.lower(),  # use the model's class name as the table name\n",
    "        \"description\":model_dict.get('description'),\n",
    "        \"columns\": []\n",
    "    }\n",
    "    dbt_model = {k:v for k,v in dbt_model.items() if v or k=='columns'}\n",
    "\n",
    "    # add the columns from the pydantic model to the dbt model\n",
    "    for field_name, field in model_dict[\"properties\"].items():\n",
    "\n",
    "        column = {\n",
    "            \"name\": field_name,\n",
    "            \"description\":field.get('description'),\n",
    "            \"type\": field[\"type\"],\n",
    "        }\n",
    "        dbt_model[\"columns\"].append({k:v for k,v in column.items() if v})\n",
    "    return dbt_model\n"
   ]
  },
  {
   "cell_type": "code",
   "execution_count": null,
   "metadata": {},
   "outputs": [],
   "source": [
    "#|exporti\n",
    "\n",
    "class Base():\n",
    "    \"\"\"\n",
    "    Custom implementation of Pydantic's Base Model.\n",
    "\n",
    "    Includes `_repr_json_` and `_repr_html_` methods for nice displays in Jupyter Lab and Jupyter Notebook, respectively.\n",
    "\n",
    "    json_encoders are set in the Config class.\n",
    "    \"\"\"\n",
    "    @delegates(PydanticBaseModel.json)\n",
    "    def display_json(self,**kwargs):\n",
    "        \"\"\"Helper function to display json in jupyter lab using kwargs passed to pydantic's .json() method\"\"\"\n",
    "        return JSON(\n",
    "            json.loads(self.json(**kwargs))\n",
    "        )\n",
    "\n",
    "    @classmethod\n",
    "    @delegates(PydanticBaseModel.schema_json)\n",
    "    def display_schema_json(cls,**kwargs):\n",
    "        \"\"\"Helper function to display schema json in jupyter lab using kwargs passed to pydantic's .json() method\"\"\"\n",
    "        return JSON(\n",
    "            json.loads(cls.schema_json(**kwargs))\n",
    "        )\n",
    "\n",
    "    @classmethod\n",
    "    @delegates(PydanticBaseModel.schema_json)\n",
    "    def schema_html(cls,**kwargs):\n",
    "        return HTML(\n",
    "            json2html.convert(cls.schema_json(**kwargs))\n",
    "        )\n",
    "\n",
    "    @classmethod\n",
    "    @delegates(PydanticBaseModel.schema)\n",
    "    def schema_yml(cls,**kwargs):\n",
    "        dbt = pydantic_to_dbt(cls)\n",
    "\n",
    "        return dict_to_yaml(dbt)\n",
    "\n",
    "    def _repr_html_(self):\n",
    "        try:\n",
    "            return json2html.convert(\n",
    "                self.json(**self.Display.html)\n",
    "            )\n",
    "        except:\n",
    "            pass\n",
    "\n",
    "    def _repr_json_(self):\n",
    "        try:\n",
    "            return json.loads(\n",
    "                self.json(**self.Display.json)\n",
    "            )\n",
    "        except Exception as e:\n",
    "            print(e)\n",
    "            pass\n",
    "\n",
    "    class Display:\n",
    "        json = {}\n",
    "        html = {}\n",
    "        "
   ]
  },
  {
   "cell_type": "code",
   "execution_count": null,
   "metadata": {},
   "outputs": [],
   "source": [
    "#|export\n",
    "\n",
    "class BaseModel(PydanticBaseModel,Base):\n",
    "    pass"
   ]
  },
  {
   "cell_type": "code",
   "execution_count": null,
   "metadata": {},
   "outputs": [],
   "source": [
    "#|export \n",
    "\n",
    "class GenericModel(PydanticGenericModel,Base):\n",
    "    pass"
   ]
  },
  {
   "cell_type": "code",
   "execution_count": null,
   "metadata": {},
   "outputs": [],
   "source": []
  }
 ],
 "metadata": {
  "kernelspec": {
   "display_name": "Python 3 (ipykernel)",
   "language": "python",
   "name": "python3"
  }
 },
 "nbformat": 4,
 "nbformat_minor": 1
}
