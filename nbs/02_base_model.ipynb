{
 "cells": [
  {
   "cell_type": "code",
   "execution_count": null,
   "metadata": {},
   "outputs": [],
   "source": [
    "#| default_exp base_model"
   ]
  },
  {
   "cell_type": "code",
   "execution_count": null,
   "metadata": {},
   "outputs": [],
   "source": [
    "#| exporti \n",
    "from typing import *\n",
    "from pydantic import BaseModel as PydanticBaseModel\n",
    "from pydantic.generics import GenericModel as PydanticGenericModel\n",
    "import json\n",
    "from json2html import json2html\n",
    "from IPython.display import HTML,JSON\n",
    "import inspect\n",
    "import yaml\n",
    "from archetypon.delegates import delegates\n",
    "import logging\n",
    "from pandas import DataFrame as PandasDataFrame\n",
    "from pydantic import validator\n",
    "import pandas as pd"
   ]
  },
  {
   "cell_type": "markdown",
   "metadata": {},
   "source": [
    "# Base Model\n",
    "> Extending Pydantic's BaseModel with Jupyter-specific utilities"
   ]
  },
  {
   "cell_type": "markdown",
   "metadata": {},
   "source": [
    "## Custom Pandas DataFrame\n",
    "> Add classmethods to Pandas' DataFrame object to allow for Pydantic validation"
   ]
  },
  {
   "cell_type": "code",
   "execution_count": null,
   "metadata": {},
   "outputs": [],
   "source": [
    "#|export \n",
    "\n",
    "class DataFrame(PandasDataFrame):\n",
    "    \"\"\"Subclassed from Pandas DataFrame. Includes classmethods used in Pydantic Validation\"\"\"\n",
    "    \n",
    "    @classmethod\n",
    "    def __get_validators__(cls):\n",
    "        yield cls.validate_dataframe\n",
    "    \n",
    "    @classmethod\n",
    "    def __modify_schema__(cls, field_schema: Dict[str, Any]) -> None:\n",
    "        pass\n",
    "    \n",
    "    @classmethod\n",
    "    def validate_dataframe(cls,v):\n",
    "\n",
    "        return PandasDataFrame(v)"
   ]
  },
  {
   "cell_type": "markdown",
   "metadata": {},
   "source": [
    "## DBT Schema\n",
    "> Support functions to convert Pydantic Model into a DBT Schema"
   ]
  },
  {
   "cell_type": "code",
   "execution_count": null,
   "metadata": {},
   "outputs": [],
   "source": [
    "\n",
    "#|exporti\n",
    "\n",
    "def dict_to_yaml(data: dict) -> str:\n",
    "    # convert the dictionary to a yaml string\n",
    "    yaml_str = yaml.dump(data,sort_keys = False)\n",
    "\n",
    "    return yaml_str"
   ]
  },
  {
   "cell_type": "code",
   "execution_count": null,
   "metadata": {},
   "outputs": [],
   "source": [
    "\n",
    "#|exporti\n",
    "\n",
    "def pydantic_to_dbt(model: Type[PydanticBaseModel]) -> dict:\n",
    "    # convert the model to a dictionary\n",
    "    model_dict = model.schema()\n",
    "\n",
    "    # create a dictionary for the dbt model\n",
    "    dbt_model = {\n",
    "        \"version\": 2,\n",
    "        \"name\": model.__name__.lower(),  # use the model's class name as the table name\n",
    "        \"description\":model_dict.get('description'),\n",
    "        \"columns\": []\n",
    "    }\n",
    "    dbt_model = {k:v for k,v in dbt_model.items() if v or k=='columns'}\n",
    "\n",
    "    # add the columns from the pydantic model to the dbt model\n",
    "    for field_name, field in model_dict[\"properties\"].items():\n",
    "\n",
    "        column = {\n",
    "            \"name\": field_name,\n",
    "            \"description\":field.get('description'),\n",
    "            \"type\": field[\"type\"],\n",
    "        }\n",
    "        dbt_model[\"columns\"].append({k:v for k,v in column.items() if v})\n",
    "    return dbt_model\n"
   ]
  },
  {
   "cell_type": "code",
   "execution_count": null,
   "metadata": {},
   "outputs": [],
   "source": [
    "#|exporti\n",
    "\n",
    "class Base():\n",
    "\n",
    "    @delegates(PydanticBaseModel.json)\n",
    "    def display_json(\n",
    "        self,\n",
    "        json_loads_kwargs: dict = {}, # passed to json.loads()\n",
    "        display_kwargs: dict = {}, # passed to IPython.display.JSON()\n",
    "        **kwargs\n",
    "    ): \n",
    "        \"\"\"Helper function to display json in jupyter lab using kwargs passed to pydantic's .json() method\"\"\"\n",
    "        return JSON(\n",
    "            json.loads(self.json(**kwargs),**json_loads_kwargs),\n",
    "            **display_kwargs\n",
    "        )\n",
    "    \n",
    "    @delegates(PydanticBaseModel.json)\n",
    "    def display_html(self,**kwargs):\n",
    "        return HTML(\n",
    "            json2html.convert(self.json(**kwargs))\n",
    "        )\n",
    "    \n",
    "    @classmethod\n",
    "    @delegates(PydanticBaseModel.schema_json)\n",
    "    def display_schema_json(cls,**kwargs):\n",
    "        \"\"\"Helper function to display schema json in jupyter lab using kwargs passed to pydantic's .json() method\"\"\"\n",
    "        return JSON(\n",
    "            json.loads(cls.schema_json(**kwargs))\n",
    "        )\n",
    "\n",
    "    @classmethod\n",
    "    @delegates(PydanticBaseModel.schema_json)\n",
    "    def schema_html(cls,**kwargs):\n",
    "        return HTML(\n",
    "            json2html.convert(cls.schema_json(**kwargs))\n",
    "        )\n",
    "\n",
    "    @classmethod\n",
    "    @delegates(PydanticBaseModel.schema)\n",
    "    def schema_yml(cls,**kwargs):\n",
    "        dbt = pydantic_to_dbt(cls)\n",
    "\n",
    "        return dict_to_yaml(dbt)\n",
    "\n",
    "    def _repr_html_(self):\n",
    "        try:\n",
    "            return self.display_html(**self.Display.html).data\n",
    "        except Exception as e:\n",
    "            logging.warning(e)\n",
    "            pass\n",
    "\n",
    "    def _repr_json_(self):\n",
    "        try:\n",
    "            return self.display_json(**self.Display.json).data\n",
    "        except Exception as e:\n",
    "            logging.warning(e)\n",
    "            pass\n",
    "\n",
    "    class Display:\n",
    "        json = {}\n",
    "        html = {}\n",
    "    \n",
    "    class Config:\n",
    "        json_encoders = {\n",
    "            PandasDataFrame: lambda df: json.loads(df.to_json(date_format='iso'))\n",
    "        }\n"
   ]
  },
  {
   "cell_type": "code",
   "execution_count": null,
   "metadata": {},
   "outputs": [],
   "source": [
    "#|export\n",
    "\n",
    "class BaseModel(PydanticBaseModel,Base):\n",
    "    \"\"\"\n",
    "    Custom implementation of Pydantic's Base Model.\n",
    "\n",
    "    Includes `_repr_json_` and `_repr_html_` methods for nice displays in Jupyter Lab and Jupyter Notebook, respectively.\n",
    "\n",
    "    \"\"\"    \n",
    "    class Config(Base.Config):\n",
    "        pass"
   ]
  },
  {
   "cell_type": "code",
   "execution_count": null,
   "metadata": {},
   "outputs": [],
   "source": [
    "import datetime as dt\n",
    "from pydantic import validator\n",
    "from dateutil.relativedelta import relativedelta\n",
    "from pydantic import ValidationError"
   ]
  },
  {
   "cell_type": "code",
   "execution_count": null,
   "metadata": {},
   "outputs": [],
   "source": [
    "class Person(BaseModel):\n",
    "    name: str\n",
    "    dob: dt.date\n",
    "    age: Optional[int] \n",
    "    \n",
    "    @validator('age',always=True)\n",
    "    def _validate_age(cls,v,values):\n",
    "        difference_in_years = relativedelta(\n",
    "            dt.date.today(), \n",
    "            values['dob']\n",
    "        ).years\n",
    "        if v and v!=difference_in_years:\n",
    "            raise ValueError(\"You're lying about your age!\")\n",
    "        return difference_in_years"
   ]
  },
  {
   "cell_type": "code",
   "execution_count": null,
   "metadata": {},
   "outputs": [
    {
     "data": {
      "application/json": {
       "age": 28,
       "dob": "1994-06-11",
       "name": "Humble Chuck"
      },
      "text/html": [
       "<table border=\"1\"><tr><th>name</th><td>Humble Chuck</td></tr><tr><th>dob</th><td>1994-06-11</td></tr><tr><th>age</th><td>28</td></tr></table>"
      ],
      "text/plain": [
       "Person(name='Humble Chuck', dob=datetime.date(1994, 6, 11), age=28)"
      ]
     },
     "execution_count": null,
     "metadata": {},
     "output_type": "execute_result"
    }
   ],
   "source": [
    "me = Person(\n",
    "    name = 'Humble Chuck',\n",
    "    dob = '1994-06-11'\n",
    ")\n",
    "me"
   ]
  },
  {
   "cell_type": "code",
   "execution_count": null,
   "metadata": {},
   "outputs": [
    {
     "name": "stdout",
     "output_type": "stream",
     "text": [
      "1 validation error for Person\n",
      "age\n",
      "  You're lying about your age! (type=value_error)\n"
     ]
    }
   ],
   "source": [
    "try:\n",
    "    me = Person(\n",
    "        name = 'Humble Chuck',\n",
    "        dob = '1994-06-11',\n",
    "        age = 27\n",
    "    )\n",
    "except ValidationError as e:\n",
    "    print(e)"
   ]
  },
  {
   "cell_type": "code",
   "execution_count": null,
   "metadata": {},
   "outputs": [],
   "source": [
    "#|export \n",
    "\n",
    "class GenericModel(PydanticGenericModel,Base):\n",
    "    \"\"\"\n",
    "    Custom implementation of Pydantic's Generic Model.\n",
    "\n",
    "    Includes `_repr_json_` and `_repr_html_` methods for nice displays in Jupyter Lab and Jupyter Notebook, respectively.\n",
    "\n",
    "    \"\"\"    \n",
    "\n",
    "    class Config(Base.Config):\n",
    "        pass"
   ]
  },
  {
   "cell_type": "code",
   "execution_count": null,
   "metadata": {},
   "outputs": [],
   "source": [
    "class ModelWithDataFrame(BaseModel):\n",
    "    df: DataFrame\n",
    "    "
   ]
  },
  {
   "cell_type": "code",
   "execution_count": null,
   "metadata": {},
   "outputs": [
    {
     "data": {
      "application/json": {
       "df": {
        "a": {
         "0": 1
        },
        "b": {
         "0": 2
        }
       }
      },
      "text/html": [
       "<table border=\"1\"><tr><th>df</th><td><table border=\"1\"><tr><th>a</th><td><table border=\"1\"><tr><th>0</th><td>1</td></tr></table></td></tr><tr><th>b</th><td><table border=\"1\"><tr><th>0</th><td>2</td></tr></table></td></tr></table></td></tr></table>"
      ],
      "text/plain": [
       "ModelWithDataFrame(df=   a  b\n",
       "0  1  2)"
      ]
     },
     "execution_count": null,
     "metadata": {},
     "output_type": "execute_result"
    }
   ],
   "source": [
    "data = {\n",
    "    'a':[1],\n",
    "    'b':[2]\n",
    "}\n",
    "dataframe = DataFrame(data) \n",
    "model = ModelWithDataFrame(df=dataframe)\n",
    "model"
   ]
  },
  {
   "cell_type": "code",
   "execution_count": null,
   "metadata": {},
   "outputs": [
    {
     "data": {
      "application/json": {
       "df": {
        "a": {
         "0": 1
        },
        "b": {
         "0": 2
        }
       }
      },
      "text/html": [
       "<table border=\"1\"><tr><th>df</th><td><table border=\"1\"><tr><th>a</th><td><table border=\"1\"><tr><th>0</th><td>1</td></tr></table></td></tr><tr><th>b</th><td><table border=\"1\"><tr><th>0</th><td>2</td></tr></table></td></tr></table></td></tr></table>"
      ],
      "text/plain": [
       "ModelWithDataFrame(df=   a  b\n",
       "0  1  2)"
      ]
     },
     "execution_count": null,
     "metadata": {},
     "output_type": "execute_result"
    }
   ],
   "source": [
    "model"
   ]
  },
  {
   "cell_type": "markdown",
   "metadata": {},
   "source": [
    "## Generic DataFrame Model\n",
    "> Anything passed to 'data' will be loaded as a dataframe."
   ]
  },
  {
   "cell_type": "code",
   "execution_count": null,
   "metadata": {},
   "outputs": [],
   "source": [
    "#|exporti\n",
    "\n",
    "DataFrameT = TypeVar('DataFrameT')"
   ]
  },
  {
   "cell_type": "code",
   "execution_count": null,
   "metadata": {},
   "outputs": [],
   "source": [
    "#| export\n",
    "\n",
    "class DataFrameModel(GenericModel,Generic[DataFrameT]):\n",
    "    \"\"\"Generic DataFrame model. Anything passed to the 'data' attribute will be parsed as a DataFrame\"\"\"\n",
    "    data: DataFrameT = None\n",
    "    \n",
    "    @validator('data',pre=True,always=True)\n",
    "    def create_dataframe(cls,v):\n",
    "        return pd.DataFrame(v)\n",
    "    \n",
    "    # @delegates(PydanticBaseModel.dict)\n",
    "    # def to_df(self,**kwargs):\n",
    "    #     \"\"\"convert data to dataframe with **kwargs from Pydantics .dict() method\"\"\"\n",
    "    #     return \n",
    "    \n",
    "    def _repr_html_(self):\n",
    "        \n",
    "        df_html = self.data._repr_html_()\n",
    "        schema = self.schema()\n",
    "        html_fields = [\n",
    "            f\"<header><b>{schema_field}</b>: {schema[schema_field]}\\n</header>\"\n",
    "            for schema_field in ['title','description']\n",
    "        ]\n",
    "        for field in self.__fields__.keys():\n",
    "            if field!='data':\n",
    "                html_fields.append(\n",
    "                    f'<header><b>{field}</b>: {getattr(self,field)}</header>'\n",
    "                )\n",
    "        return ''.join(\n",
    "            x for x in html_fields + ['<header><b>DataFrame</b>: </header>',df_html]\n",
    "        )\n",
    "\n",
    "    def _repr_json_(self):\n",
    "        pass"
   ]
  },
  {
   "cell_type": "code",
   "execution_count": null,
   "metadata": {},
   "outputs": [],
   "source": [
    "from pydantic import HttpUrl,Field\n",
    "import pandas as pd"
   ]
  },
  {
   "cell_type": "code",
   "execution_count": null,
   "metadata": {},
   "outputs": [],
   "source": [
    "class WFUVRecentlyPlayed(DataFrameModel):\n",
    "    \"\"\"A DataFrame of recently played songs from WFUV\"\"\"\n",
    "    \n",
    "    source:ClassVar[HttpUrl] = \"https://wfuv.org/playlist\"\n",
    "    timestamp: dt.datetime = Field(description='The time that the data was collected',default_factory = dt.datetime.now)\n",
    "    \n",
    "    def __init__(self,*args,**kwargs):\n",
    "        data = pd.read_html(self.source)[0]\n",
    "        super().__init__(data=data,*args,**kwargs)\n",
    "        "
   ]
  },
  {
   "cell_type": "code",
   "execution_count": null,
   "metadata": {},
   "outputs": [
    {
     "data": {
      "text/html": [
       "<header><b>title</b>: WFUVRecentlyPlayed\n",
       "</header><header><b>description</b>: A DataFrame of recently played songs from WFUV\n",
       "</header><header><b>timestamp</b>: 2023-02-10 14:02:52.125770</header><header><b>DataFrame</b>: </header><div>\n",
       "<style scoped>\n",
       "    .dataframe tbody tr th:only-of-type {\n",
       "        vertical-align: middle;\n",
       "    }\n",
       "\n",
       "    .dataframe tbody tr th {\n",
       "        vertical-align: top;\n",
       "    }\n",
       "\n",
       "    .dataframe thead th {\n",
       "        text-align: right;\n",
       "    }\n",
       "</style>\n",
       "<table border=\"1\" class=\"dataframe\">\n",
       "  <thead>\n",
       "    <tr style=\"text-align: right;\">\n",
       "      <th></th>\n",
       "      <th>Time</th>\n",
       "      <th>Song Title</th>\n",
       "      <th>Artist</th>\n",
       "    </tr>\n",
       "  </thead>\n",
       "  <tbody>\n",
       "    <tr>\n",
       "      <th>0</th>\n",
       "      <td>02/10, 1:38pm</td>\n",
       "      <td>The Greatest</td>\n",
       "      <td>Cat Power</td>\n",
       "    </tr>\n",
       "    <tr>\n",
       "      <th>1</th>\n",
       "      <td>02/10, 1:31pm</td>\n",
       "      <td>Same Ol Mistakes</td>\n",
       "      <td>Rihanna</td>\n",
       "    </tr>\n",
       "    <tr>\n",
       "      <th>2</th>\n",
       "      <td>02/10, 1:26pm</td>\n",
       "      <td>This Year</td>\n",
       "      <td>Emily King</td>\n",
       "    </tr>\n",
       "    <tr>\n",
       "      <th>3</th>\n",
       "      <td>02/10, 1:23pm</td>\n",
       "      <td>Part of the Band</td>\n",
       "      <td>The 1975</td>\n",
       "    </tr>\n",
       "    <tr>\n",
       "      <th>4</th>\n",
       "      <td>02/10, 1:19pm</td>\n",
       "      <td>Disarm</td>\n",
       "      <td>Smashing Pumpkins</td>\n",
       "    </tr>\n",
       "    <tr>\n",
       "      <th>...</th>\n",
       "      <td>...</td>\n",
       "      <td>...</td>\n",
       "      <td>...</td>\n",
       "    </tr>\n",
       "    <tr>\n",
       "      <th>345</th>\n",
       "      <td>02/09, 1:16pm</td>\n",
       "      <td>Vacation</td>\n",
       "      <td>The Go-Go's</td>\n",
       "    </tr>\n",
       "    <tr>\n",
       "      <th>346</th>\n",
       "      <td>02/09, 1:07pm</td>\n",
       "      <td>The Payback</td>\n",
       "      <td>James Brown</td>\n",
       "    </tr>\n",
       "    <tr>\n",
       "      <th>347</th>\n",
       "      <td>02/09, 1:03pm</td>\n",
       "      <td>New Gold</td>\n",
       "      <td>Gorillaz</td>\n",
       "    </tr>\n",
       "    <tr>\n",
       "      <th>348</th>\n",
       "      <td>02/09, 1:00pm</td>\n",
       "      <td>Modern Girl</td>\n",
       "      <td>Sleater-Kinney</td>\n",
       "    </tr>\n",
       "    <tr>\n",
       "      <th>349</th>\n",
       "      <td>02/09, 12:57pm</td>\n",
       "      <td>Radio</td>\n",
       "      <td>Margo Price ft. Sharon Van Etten</td>\n",
       "    </tr>\n",
       "  </tbody>\n",
       "</table>\n",
       "<p>350 rows × 3 columns</p>\n",
       "</div>"
      ],
      "text/plain": [
       "WFUVRecentlyPlayed(data=               Time         Song Title                            Artist\n",
       "0     02/10, 1:38pm       The Greatest                         Cat Power\n",
       "1     02/10, 1:31pm  Same Ol Mistakes                           Rihanna\n",
       "2     02/10, 1:26pm          This Year                        Emily King\n",
       "3     02/10, 1:23pm   Part of the Band                          The 1975\n",
       "4     02/10, 1:19pm             Disarm                 Smashing Pumpkins\n",
       "..              ...                ...                               ...\n",
       "345   02/09, 1:16pm           Vacation                       The Go-Go's\n",
       "346   02/09, 1:07pm        The Payback                       James Brown\n",
       "347   02/09, 1:03pm           New Gold                          Gorillaz\n",
       "348   02/09, 1:00pm        Modern Girl                    Sleater-Kinney\n",
       "349  02/09, 12:57pm              Radio  Margo Price ft. Sharon Van Etten\n",
       "\n",
       "[350 rows x 3 columns], timestamp=datetime.datetime(2023, 2, 10, 14, 2, 52, 125770))"
      ]
     },
     "execution_count": null,
     "metadata": {},
     "output_type": "execute_result"
    }
   ],
   "source": [
    "recently_played = WFUVRecentlyPlayed()\n",
    "recently_played"
   ]
  },
  {
   "cell_type": "code",
   "execution_count": null,
   "metadata": {},
   "outputs": [],
   "source": [
    "#| hide\n",
    "import nbdev; nbdev.nbdev_export()"
   ]
  },
  {
   "cell_type": "code",
   "execution_count": null,
   "metadata": {},
   "outputs": [],
   "source": []
  }
 ],
 "metadata": {
  "kernelspec": {
   "display_name": "Python 3 (ipykernel)",
   "language": "python",
   "name": "python3"
  }
 },
 "nbformat": 4,
 "nbformat_minor": 4
}
