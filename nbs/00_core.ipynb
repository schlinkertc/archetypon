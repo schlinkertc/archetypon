{
 "cells": [
  {
   "cell_type": "raw",
   "metadata": {},
   "source": [
    "---\n",
    "description: Data modeling and validation for Pandas DataFrames and settings management\n",
    "  for SQLAlchemy connections using Pydantic\n",
    "output-file: core.html\n",
    "title: core\n",
    "\n",
    "---\n",
    "\n"
   ]
  },
  {
   "cell_type": "code",
   "execution_count": null,
   "metadata": {},
   "outputs": [],
   "source": [
    "#| default_exp core"
   ]
  },
  {
   "cell_type": "code",
   "execution_count": null,
   "metadata": {},
   "outputs": [],
   "source": [
    "#| exporti\n",
    "from archetypon.base_model import BaseModel,DataFrame\n",
    "from archetypon.record_validation import RecordFrame\n",
    "import pandas as pd"
   ]
  },
  {
   "cell_type": "markdown",
   "metadata": {},
   "source": [
    "## Example"
   ]
  },
  {
   "cell_type": "code",
   "execution_count": null,
   "metadata": {},
   "outputs": [],
   "source": [
    "df=pd.read_csv(\n",
    "    \"https://archive.ics.uci.edu/ml/machine-learning-databases/00468/online_shoppers_intention.csv\"\n",
    ")"
   ]
  },
  {
   "cell_type": "code",
   "execution_count": null,
   "metadata": {},
   "outputs": [],
   "source": [
    "class OnlineShoppers(BaseModel):\n",
    "    __root__: DataFrame"
   ]
  },
  {
   "cell_type": "code",
   "execution_count": null,
   "metadata": {},
   "outputs": [
    {
     "data": {
      "text/html": [
       "<table border=\"1\"><tr><th>Administrative</th><td><table border=\"1\"><tr><th>0</th><td>0</td></tr><tr><th>1</th><td>0</td></tr><tr><th>2</th><td>0</td></tr><tr><th>3</th><td>0</td></tr><tr><th>4</th><td>0</td></tr></table></td></tr><tr><th>Administrative_Duration</th><td><table border=\"1\"><tr><th>0</th><td>0.0</td></tr><tr><th>1</th><td>0.0</td></tr><tr><th>2</th><td>0.0</td></tr><tr><th>3</th><td>0.0</td></tr><tr><th>4</th><td>0.0</td></tr></table></td></tr><tr><th>Informational</th><td><table border=\"1\"><tr><th>0</th><td>0</td></tr><tr><th>1</th><td>0</td></tr><tr><th>2</th><td>0</td></tr><tr><th>3</th><td>0</td></tr><tr><th>4</th><td>0</td></tr></table></td></tr><tr><th>Informational_Duration</th><td><table border=\"1\"><tr><th>0</th><td>0.0</td></tr><tr><th>1</th><td>0.0</td></tr><tr><th>2</th><td>0.0</td></tr><tr><th>3</th><td>0.0</td></tr><tr><th>4</th><td>0.0</td></tr></table></td></tr><tr><th>ProductRelated</th><td><table border=\"1\"><tr><th>0</th><td>1</td></tr><tr><th>1</th><td>2</td></tr><tr><th>2</th><td>1</td></tr><tr><th>3</th><td>2</td></tr><tr><th>4</th><td>10</td></tr></table></td></tr><tr><th>ProductRelated_Duration</th><td><table border=\"1\"><tr><th>0</th><td>0.0</td></tr><tr><th>1</th><td>64.0</td></tr><tr><th>2</th><td>0.0</td></tr><tr><th>3</th><td>2.666666667</td></tr><tr><th>4</th><td>627.5</td></tr></table></td></tr><tr><th>BounceRates</th><td><table border=\"1\"><tr><th>0</th><td>0.2</td></tr><tr><th>1</th><td>0.0</td></tr><tr><th>2</th><td>0.2</td></tr><tr><th>3</th><td>0.05</td></tr><tr><th>4</th><td>0.02</td></tr></table></td></tr><tr><th>ExitRates</th><td><table border=\"1\"><tr><th>0</th><td>0.2</td></tr><tr><th>1</th><td>0.1</td></tr><tr><th>2</th><td>0.2</td></tr><tr><th>3</th><td>0.14</td></tr><tr><th>4</th><td>0.05</td></tr></table></td></tr><tr><th>PageValues</th><td><table border=\"1\"><tr><th>0</th><td>0.0</td></tr><tr><th>1</th><td>0.0</td></tr><tr><th>2</th><td>0.0</td></tr><tr><th>3</th><td>0.0</td></tr><tr><th>4</th><td>0.0</td></tr></table></td></tr><tr><th>SpecialDay</th><td><table border=\"1\"><tr><th>0</th><td>0.0</td></tr><tr><th>1</th><td>0.0</td></tr><tr><th>2</th><td>0.0</td></tr><tr><th>3</th><td>0.0</td></tr><tr><th>4</th><td>0.0</td></tr></table></td></tr><tr><th>Month</th><td><table border=\"1\"><tr><th>0</th><td>Feb</td></tr><tr><th>1</th><td>Feb</td></tr><tr><th>2</th><td>Feb</td></tr><tr><th>3</th><td>Feb</td></tr><tr><th>4</th><td>Feb</td></tr></table></td></tr><tr><th>OperatingSystems</th><td><table border=\"1\"><tr><th>0</th><td>1</td></tr><tr><th>1</th><td>2</td></tr><tr><th>2</th><td>4</td></tr><tr><th>3</th><td>3</td></tr><tr><th>4</th><td>3</td></tr></table></td></tr><tr><th>Browser</th><td><table border=\"1\"><tr><th>0</th><td>1</td></tr><tr><th>1</th><td>2</td></tr><tr><th>2</th><td>1</td></tr><tr><th>3</th><td>2</td></tr><tr><th>4</th><td>3</td></tr></table></td></tr><tr><th>Region</th><td><table border=\"1\"><tr><th>0</th><td>1</td></tr><tr><th>1</th><td>1</td></tr><tr><th>2</th><td>9</td></tr><tr><th>3</th><td>2</td></tr><tr><th>4</th><td>1</td></tr></table></td></tr><tr><th>TrafficType</th><td><table border=\"1\"><tr><th>0</th><td>1</td></tr><tr><th>1</th><td>2</td></tr><tr><th>2</th><td>3</td></tr><tr><th>3</th><td>4</td></tr><tr><th>4</th><td>4</td></tr></table></td></tr><tr><th>VisitorType</th><td><table border=\"1\"><tr><th>0</th><td>Returning_Visitor</td></tr><tr><th>1</th><td>Returning_Visitor</td></tr><tr><th>2</th><td>Returning_Visitor</td></tr><tr><th>3</th><td>Returning_Visitor</td></tr><tr><th>4</th><td>Returning_Visitor</td></tr></table></td></tr><tr><th>Weekend</th><td><table border=\"1\"><tr><th>0</th><td>False</td></tr><tr><th>1</th><td>False</td></tr><tr><th>2</th><td>False</td></tr><tr><th>3</th><td>False</td></tr><tr><th>4</th><td>True</td></tr></table></td></tr><tr><th>Revenue</th><td><table border=\"1\"><tr><th>0</th><td>False</td></tr><tr><th>1</th><td>False</td></tr><tr><th>2</th><td>False</td></tr><tr><th>3</th><td>False</td></tr><tr><th>4</th><td>False</td></tr></table></td></tr></table>"
      ],
      "text/plain": [
       "<IPython.core.display.HTML object>"
      ]
     },
     "execution_count": null,
     "metadata": {},
     "output_type": "execute_result"
    }
   ],
   "source": [
    "OnlineShoppers(__root__=df)"
   ]
  },
  {
   "cell_type": "code",
   "execution_count": null,
   "metadata": {},
   "outputs": [],
   "source": [
    "#| hide\n",
    "import nbdev; nbdev.nbdev_export()"
   ]
  }
 ],
 "metadata": {
  "kernelspec": {
   "display_name": "Python 3 (ipykernel)",
   "language": "python",
   "name": "python3"
  }
 },
 "nbformat": 4,
 "nbformat_minor": 4
}
